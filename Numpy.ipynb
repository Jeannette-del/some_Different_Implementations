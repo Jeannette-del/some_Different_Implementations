{
  "nbformat": 4,
  "nbformat_minor": 0,
  "metadata": {
    "colab": {
      "name": "Jeannette_NYIRAHAKIZIMANA_BootCamp_Day_6_Lab.ipynb",
      "provenance": [],
      "collapsed_sections": []
    },
    "kernelspec": {
      "name": "python3",
      "display_name": "Python 3"
    }
  },
  "cells": [
    {
      "cell_type": "markdown",
      "metadata": {
        "id": "OMEZwkVfuAQw"
      },
      "source": [
        "<a href='https://aims-senegal.org/'> <img src='http://sn.nexteinstein.org/wp-content/uploads/sites/12/2016/07/aims_senegal.jpg' /></a>"
      ]
    },
    {
      "cell_type": "code",
      "metadata": {
        "id": "gmHCp3XmxPuD"
      },
      "source": [
        "# run this cell first\n",
        "import numpy as np"
      ],
      "execution_count": null,
      "outputs": []
    },
    {
      "cell_type": "markdown",
      "metadata": {
        "id": "rrfzDGdlzNsp"
      },
      "source": [
        "\n",
        "\n",
        "---\n",
        "\n",
        "\n",
        "\n",
        "---\n",
        "\n",
        "\n",
        "\n",
        "---\n",
        "\n"
      ]
    },
    {
      "cell_type": "markdown",
      "metadata": {
        "id": "HphSexHJFi1T"
      },
      "source": [
        "# Exercise A:\n",
        "\n",
        "\n"
      ]
    },
    {
      "cell_type": "markdown",
      "metadata": {
        "id": "Y_OjrWqbGTyq"
      },
      "source": [
        "### 1- Construct a Ndarray  of shape (3, 2) filled with **8**, Then set element (0, 1) to 10, and element (1, 0) to 100"
      ]
    },
    {
      "cell_type": "code",
      "metadata": {
        "id": "EYrWwRP5GJJv",
        "colab": {
          "base_uri": "https://localhost:8080/"
        },
        "outputId": "0ad9e8c6-a34e-4d05-cffb-6c43ce7e5c27"
      },
      "source": [
        "################################################################################\n",
        "#                              START OF YOUR CODE                                #\n",
        "################################################################################\n",
        "\n",
        "A = np.full((3,2), 8)\n",
        "A\n",
        "A[0,1]= 10\n",
        "A[1,0] =100\n",
        "A\n",
        " \n",
        "################################################################################\n",
        "#                              END OF YOUR CODE                                #\n",
        "################################################################################"
      ],
      "execution_count": null,
      "outputs": [
        {
          "output_type": "execute_result",
          "data": {
            "text/plain": [
              "array([[  8,  10],\n",
              "       [100,   8],\n",
              "       [  8,   8]])"
            ]
          },
          "metadata": {
            "tags": []
          },
          "execution_count": 6
        }
      ]
    },
    {
      "cell_type": "markdown",
      "metadata": {
        "id": "AhNeVAJeGVwS"
      },
      "source": [
        "### 2- Create a 64-bit floating-point Ndarray of shape (6,) (six-element vector) filled with evenly-spaced values between 10 and 20. "
      ]
    },
    {
      "cell_type": "code",
      "metadata": {
        "id": "RxTXO9H6Goc0",
        "colab": {
          "base_uri": "https://localhost:8080/"
        },
        "outputId": "38afbb63-7bfc-4788-a3c8-a2bee7bff3f8"
      },
      "source": [
        "################################################################################\n",
        "#                              START OF YOUR CODE                                #\n",
        "################################################################################\n",
        "\n",
        "\n",
        "B = np.linspace(10,20,6)\n",
        "B\n",
        " \n",
        "################################################################################\n",
        "#                              END OF YOUR CODE                                #\n",
        "################################################################################"
      ],
      "execution_count": null,
      "outputs": [
        {
          "output_type": "execute_result",
          "data": {
            "text/plain": [
              "array([10., 12., 14., 16., 18., 20.])"
            ]
          },
          "metadata": {
            "tags": []
          },
          "execution_count": 28
        }
      ]
    },
    {
      "cell_type": "code",
      "metadata": {
        "colab": {
          "base_uri": "https://localhost:8080/"
        },
        "id": "2vU4yA5PL0Lq",
        "outputId": "af84aa58-22e3-42d0-f775-95ebbd08f8d6"
      },
      "source": [
        "B.dtype"
      ],
      "execution_count": null,
      "outputs": [
        {
          "output_type": "execute_result",
          "data": {
            "text/plain": [
              "dtype('float64')"
            ]
          },
          "metadata": {
            "tags": []
          },
          "execution_count": 14
        }
      ]
    },
    {
      "cell_type": "markdown",
      "metadata": {
        "id": "JKVAKcUSGq4G"
      },
      "source": [
        "### 3- Create a vector with values ranging from 10 to 49"
      ]
    },
    {
      "cell_type": "code",
      "metadata": {
        "id": "xo6Jeuk_HcRJ",
        "colab": {
          "base_uri": "https://localhost:8080/"
        },
        "outputId": "35716f7a-6b31-448d-eeb3-b1d980f8fe12"
      },
      "source": [
        "################################################################################\n",
        "#                              START OF YOUR CODE                                #\n",
        "################################################################################\n",
        "C = np.arange(10,49)\n",
        "C\n",
        " \n",
        "################################################################################\n",
        "#                              END OF YOUR CODE                                #\n",
        "################################################################################"
      ],
      "execution_count": null,
      "outputs": [
        {
          "output_type": "execute_result",
          "data": {
            "text/plain": [
              "array([10, 11, 12, 13, 14, 15, 16, 17, 18, 19, 20, 21, 22, 23, 24, 25, 26,\n",
              "       27, 28, 29, 30, 31, 32, 33, 34, 35, 36, 37, 38, 39, 40, 41, 42, 43,\n",
              "       44, 45, 46, 47, 48])"
            ]
          },
          "metadata": {
            "tags": []
          },
          "execution_count": 16
        }
      ]
    },
    {
      "cell_type": "markdown",
      "metadata": {
        "id": "o9TGRU4SHmXC"
      },
      "source": [
        "### 4- Create a 3x3 matrix with values ranging from 0 to 8"
      ]
    },
    {
      "cell_type": "code",
      "metadata": {
        "id": "9zLNT9s5HegE",
        "colab": {
          "base_uri": "https://localhost:8080/"
        },
        "outputId": "db969ce6-cec4-46ec-e67f-53d3d0f095df"
      },
      "source": [
        "################################################################################\n",
        "#                              START OF YOUR CODE                                #\n",
        "################################################################################\n",
        "\n",
        "D = np.arange(0,9).reshape(3,3)\n",
        "D\n",
        "\n",
        " \n",
        "################################################################################\n",
        "#                              END OF YOUR CODE                                #\n",
        "################################################################################"
      ],
      "execution_count": null,
      "outputs": [
        {
          "output_type": "execute_result",
          "data": {
            "text/plain": [
              "array([[0, 1, 2],\n",
              "       [3, 4, 5],\n",
              "       [6, 7, 8]])"
            ]
          },
          "metadata": {
            "tags": []
          },
          "execution_count": 19
        }
      ]
    },
    {
      "cell_type": "markdown",
      "metadata": {
        "id": "cBO_WV_UH6S0"
      },
      "source": [
        "### 5- Create a 10x10 array with random values and print the trace value and the mean values of each row"
      ]
    },
    {
      "cell_type": "code",
      "metadata": {
        "id": "YUYulMHjH_Nu"
      },
      "source": [
        "################################################################################\n",
        "#                              START OF YOUR CODE                                #\n",
        "################################################################################\n",
        "\n",
        "\n",
        "E =  np.random.random((10,10))\n",
        "\n",
        "F = E.trace()\n",
        "G = E.mean(axis=1)\n",
        "################################################################################\n",
        "#                              END OF YOUR CODE                                #\n",
        "################################################################################"
      ],
      "execution_count": null,
      "outputs": []
    },
    {
      "cell_type": "code",
      "metadata": {
        "colab": {
          "base_uri": "https://localhost:8080/"
        },
        "id": "JTv4B9l6SYgo",
        "outputId": "ca349f71-25ce-4422-e150-ea65c92a6569"
      },
      "source": [
        "F"
      ],
      "execution_count": null,
      "outputs": [
        {
          "output_type": "execute_result",
          "data": {
            "text/plain": [
              "4.059220406516914"
            ]
          },
          "metadata": {
            "tags": []
          },
          "execution_count": 36
        }
      ]
    },
    {
      "cell_type": "code",
      "metadata": {
        "colab": {
          "base_uri": "https://localhost:8080/"
        },
        "id": "lK6pQw-uUUfD",
        "outputId": "c4114b28-c70d-4048-ac49-fda9ed2b3e83"
      },
      "source": [
        "np.trace(E)"
      ],
      "execution_count": null,
      "outputs": [
        {
          "output_type": "execute_result",
          "data": {
            "text/plain": [
              "4.059220406516914"
            ]
          },
          "metadata": {
            "tags": []
          },
          "execution_count": 34
        }
      ]
    },
    {
      "cell_type": "code",
      "metadata": {
        "colab": {
          "base_uri": "https://localhost:8080/"
        },
        "id": "MGekyeB2SbsL",
        "outputId": "dfc13eab-6616-402d-db64-0fb05e03701c"
      },
      "source": [
        "G"
      ],
      "execution_count": null,
      "outputs": [
        {
          "output_type": "execute_result",
          "data": {
            "text/plain": [
              "array([0.32652079, 0.40612317, 0.43180734, 0.46474155, 0.47944842,\n",
              "       0.46603751, 0.50026341, 0.44363301, 0.44582565, 0.56643754])"
            ]
          },
          "metadata": {
            "tags": []
          },
          "execution_count": 33
        }
      ]
    },
    {
      "cell_type": "code",
      "metadata": {
        "id": "XYNpfW7vPPBV"
      },
      "source": [
        ""
      ],
      "execution_count": null,
      "outputs": []
    },
    {
      "cell_type": "markdown",
      "metadata": {
        "id": "stsLWALeIy2E"
      },
      "source": [
        "### 6- Create a Ndarray array of size (5, 5) with all **1** on the borders and all **0** in the inside\n"
      ]
    },
    {
      "cell_type": "code",
      "metadata": {
        "id": "oo1o0TIVJH91",
        "colab": {
          "base_uri": "https://localhost:8080/"
        },
        "outputId": "3f9895b1-5bd9-4ed8-d4a7-aa9a1576b5f7"
      },
      "source": [
        "################################################################################\n",
        "#                              START OF YOUR CODE                                #\n",
        "################################################################################\n",
        "\n",
        "H = np.ones((5,5))\n",
        "H\n",
        "H[1:-1,1:-1]=0\n",
        "H\n",
        "################################################################################\n",
        "#                              END OF YOUR CODE                                #\n",
        "################################################################################"
      ],
      "execution_count": null,
      "outputs": [
        {
          "output_type": "execute_result",
          "data": {
            "text/plain": [
              "array([[1., 1., 1., 1., 1.],\n",
              "       [1., 1., 1., 1., 1.],\n",
              "       [1., 1., 1., 1., 1.],\n",
              "       [1., 1., 1., 1., 1.],\n",
              "       [1., 1., 1., 1., 1.]])"
            ]
          },
          "metadata": {
            "tags": []
          },
          "execution_count": 38
        }
      ]
    },
    {
      "cell_type": "code",
      "metadata": {
        "colab": {
          "base_uri": "https://localhost:8080/"
        },
        "id": "-6F7s9v0VaIx",
        "outputId": "d183adab-7e17-4836-d73b-24c3b8be11e1"
      },
      "source": [
        ""
      ],
      "execution_count": null,
      "outputs": [
        {
          "output_type": "execute_result",
          "data": {
            "text/plain": [
              "array([[1., 1., 1., 1., 1.],\n",
              "       [1., 0., 0., 0., 1.],\n",
              "       [1., 0., 0., 0., 1.],\n",
              "       [1., 0., 0., 0., 1.],\n",
              "       [1., 1., 1., 1., 1.]])"
            ]
          },
          "metadata": {
            "tags": []
          },
          "execution_count": 40
        }
      ]
    },
    {
      "cell_type": "markdown",
      "metadata": {
        "id": "b2RIrBwHNW0T"
      },
      "source": [
        "### 7- Create random vector of size 10 and replace the maximum value by 0"
      ]
    },
    {
      "cell_type": "code",
      "metadata": {
        "id": "_XeAoZQXNc0q",
        "colab": {
          "base_uri": "https://localhost:8080/"
        },
        "outputId": "760c229a-108b-429c-ce03-311718fc4b8c"
      },
      "source": [
        "################################################################################\n",
        "#                              START OF YOUR CODE                                #\n",
        "################################################################################\n",
        "\n",
        "\n",
        "P = np.random.random(10)\n",
        "P\n",
        "P[P.argmax()] = 0\n",
        "P\n",
        "################################################################################\n",
        "#                              END OF YOUR CODE                                #\n",
        "################################################################################"
      ],
      "execution_count": null,
      "outputs": [
        {
          "output_type": "execute_result",
          "data": {
            "text/plain": [
              "array([0.0537865 , 0.11191734, 0.83445863, 0.23941859, 0.04179706,\n",
              "       0.32486866, 0.32034795, 0.78490505, 0.77253685, 0.        ])"
            ]
          },
          "metadata": {
            "tags": []
          },
          "execution_count": 46
        }
      ]
    },
    {
      "cell_type": "markdown",
      "metadata": {
        "id": "ugzcoy0MJW6t"
      },
      "source": [
        "### 8- Normalize a 5x5 random matrix\n",
        "Hint: subtract the mean and devide by the standard deviation"
      ]
    },
    {
      "cell_type": "code",
      "metadata": {
        "id": "7RoQFsPdJ3k1",
        "colab": {
          "base_uri": "https://localhost:8080/"
        },
        "outputId": "53ec358b-dd6d-4432-d8d8-4c92e2364c4a"
      },
      "source": [
        "################################################################################\n",
        "#                              START OF YOUR CODE                                #\n",
        "################################################################################\n",
        "\n",
        "K = np.random.random((5,5))\n",
        "stdev = np.std(K)\n",
        "Kmean = np.mean(K)\n",
        "Y = (K- Kmean)/ stdev\n",
        "Y\n",
        "\n",
        "################################################################################\n",
        "#                              END OF YOUR CODE                                #\n",
        "################################################################################"
      ],
      "execution_count": null,
      "outputs": [
        {
          "output_type": "execute_result",
          "data": {
            "text/plain": [
              "array([[ 1.36843454,  1.08734152, -2.01513622, -1.31323932, -0.05579597],\n",
              "       [ 0.57832738,  0.62971756, -0.08864394, -1.34937019,  1.38877605],\n",
              "       [ 0.4339861 , -0.43222743,  0.0975939 ,  1.14785523, -0.81632705],\n",
              "       [-0.66948988, -0.22655974, -0.29831508, -1.11520335,  0.97033367],\n",
              "       [-1.21907392,  0.99405199,  0.76918469,  1.38046098, -1.2466815 ]])"
            ]
          },
          "metadata": {
            "tags": []
          },
          "execution_count": 11
        }
      ]
    },
    {
      "cell_type": "markdown",
      "metadata": {
        "id": "iiOCoeT2JXZc"
      },
      "source": [
        "### 9- Create a random 5x2 matrix representing cartesian coordinates and print an array **\"polar\"** with same shape representing the converted polar coordinates.\n",
        "\n",
        "Hints:\n",
        "\n",
        "X represent the first column.\n",
        "\n",
        "Y represent the second column.\n",
        "\n",
        "Compute:\n",
        "\n",
        "$$ R = \\sqrt{X^2 + Y^2} $$\n",
        "\n",
        "$$ T = \\arctan{(Y, X)} $$\n"
      ]
    },
    {
      "cell_type": "code",
      "metadata": {
        "id": "TbUE_U-xMXV8",
        "colab": {
          "base_uri": "https://localhost:8080/"
        },
        "outputId": "d34e0782-0715-44a4-9100-47017627d880"
      },
      "source": [
        "################################################################################\n",
        "#                              START OF YOUR CODE                                #\n",
        "################################################################################\n",
        "W = np.random.random((5,2))\n",
        "x = W[:,0]\n",
        "y = W[:,1]\n",
        "R = np.sqrt(x**2+y**2)\n",
        "T = np.arctan(y,x)\n",
        "R\n",
        "T\n",
        "\n",
        "################################################################################\n",
        "#       END OF YOUR CODE                                #\n",
        "################################################################################"
      ],
      "execution_count": null,
      "outputs": [
        {
          "output_type": "execute_result",
          "data": {
            "text/plain": [
              "array([0.67739185, 0.61453729, 0.27652271, 0.01974563, 0.12150439])"
            ]
          },
          "metadata": {
            "tags": []
          },
          "execution_count": 18
        }
      ]
    },
    {
      "cell_type": "markdown",
      "metadata": {
        "id": "Hf8qYHpwjwEM"
      },
      "source": [
        "\n",
        "\n",
        "---\n",
        "\n",
        "\n",
        "\n",
        "---\n",
        "\n",
        "\n",
        "\n",
        "---\n",
        "\n"
      ]
    },
    {
      "cell_type": "markdown",
      "metadata": {
        "id": "VcrY3EvaeElV"
      },
      "source": [
        "### 10- Write a function that normalizes the columns of a matrix. It should compute the mean and standard deviation of each column, then subtract the mean and divide by the standard deviation for each element in the column. \n",
        "\n",
        "Example:\n",
        "```\n",
        "x = [[ 0,  30,  600],\n",
        "     [ 1,  10,  200],\n",
        "     [-1,  20,  400]]\n",
        "```\n",
        "- The first column has mean 0 and std 1\n",
        "- The second column has mean 20 and std 10\n",
        "- The third column has mean 400 and std 200\n",
        "\n",
        "After normalizing the columns, the result should be:\n",
        "```\n",
        "y = [[ 0,  1,  1],\n",
        "     [ 1, -1, -1],\n",
        "     [-1,  0,  0]]\n",
        "```\n",
        "\n",
        "Your implementation should not use any loops; instead you should use reduction and broadcasting operations."
      ]
    },
    {
      "cell_type": "code",
      "metadata": {
        "id": "1Hw72yb3eGiG"
      },
      "source": [
        "\n",
        "\n",
        "################################################################################\n",
        "#                              START OF YOUR CODE                                #\n",
        "################################################################################\n",
        "def normalize_columns(x):\n",
        "  mean = np.mean(x,axis=0)\n",
        "  stdev = np.std(x,axix=0)\n",
        "  y = (x-mean)/stdev\n",
        "  return y\n",
        "\n",
        "  # x: (input) Ndarray of shape (N, M) (don't modefy it: use copy())\n",
        "  # y: (return) Ndarray of shape (N, M) normalized by the columns\n",
        "  \n",
        "################################################################################\n",
        "#                              END OF YOUR CODE   \n",
        "                           #\n",
        "################################################################################"
      ],
      "execution_count": null,
      "outputs": []
    },
    {
      "cell_type": "code",
      "metadata": {
        "id": "AhMuCL9AfcFH"
      },
      "source": [
        "x0 = np.array([[0., 30., 600.], [1., 10., 200.], [-1., 20., 400.]])\n",
        "y0 = normalize_columns(x0)\n",
        "print('Here is x0:')\n",
        "print(x0)\n",
        "print('Here is y0:')\n",
        "print(y0)\n",
        "assert y0.tolist() == [[0., 1.224744871391589, 1.224744871391589], [1.224744871391589, -1.224744871391589, -1.224744871391589], [-1.224744871391589, 0., 0.]]\n",
        "assert x0.tolist() == [[0., 30., 600.], [1., 10., 200.], [-1., 20., 400.]]"
      ],
      "execution_count": null,
      "outputs": []
    },
    {
      "cell_type": "markdown",
      "metadata": {
        "id": "lnq9TiIcjtfo"
      },
      "source": [
        "\n",
        "\n",
        "---\n",
        "\n",
        "\n",
        "\n",
        "---\n",
        "\n",
        "\n",
        "\n",
        "---\n",
        "\n"
      ]
    },
    {
      "cell_type": "markdown",
      "metadata": {
        "id": "5cgmy-NcMnVQ"
      },
      "source": [
        "### 11- creates a function that returns a matrix of **one-hot vectors** from a list of Python integers. A one-hot vector for an integer $n$ is a vector that has a one in its $n$th slot, and zeros in all other slots. One-hot vectors are commonly used to represent categorical variables in machine learning models.\n",
        "\n",
        "### For example, given a list `[1, 4, 3, 2]` of integers, your function should produce the tensor:\n",
        "\n",
        "```\n",
        "[[0 1 0 0 0],\n",
        " [0 0 0 0 1],\n",
        " [0 0 0 1 0],\n",
        " [0 0 1 0 0]]\n",
        "```\n",
        "\n",
        "### Here the first row corresponds to the first element of the list: it has a one at index 1, and zeros at all other indices. The second row corresponds to the second element of the list: it has a one at index 4, and zeros at all other indices. The other rows follow the same pattern. "
      ]
    },
    {
      "cell_type": "code",
      "metadata": {
        "id": "PVF3dD8_M_iv"
      },
      "source": [
        "################################################################################\n",
        "#                              START OF YOUR CODE                                #\n",
        "################################################################################\n",
        "def make_one_hot(x):\n",
        "\n",
        "  #x: (input) A list of n ints\n",
        "  n = np.array(x)\n",
        "  u = np.zeros((n.size, n.max()+1))\n",
        "  u[np.arange(n.size),n]=1\n",
        "  return u\n",
        " \n",
        "################################################################################\n",
        "#                              END OF YOUR CODE                                #\n",
        "################################################################################"
      ],
      "execution_count": null,
      "outputs": []
    },
    {
      "cell_type": "markdown",
      "metadata": {
        "id": "YmeIDy2fZxw0"
      },
      "source": [
        "Run the following cell to check your implementation, you must see 'all checks pass!' message"
      ]
    },
    {
      "cell_type": "code",
      "metadata": {
        "id": "CGmylzqIM-hd",
        "colab": {
          "base_uri": "https://localhost:8080/"
        },
        "outputId": "96a2d37b-9b3c-4e5d-b256-4e7081e44eca"
      },
      "source": [
        "def check_one_hot(x, y):\n",
        "  C = y.shape[1]\n",
        "  for i, n in enumerate(x):\n",
        "    if n >= C: return False\n",
        "    for j in range(C):\n",
        "      expected = 1.0 if j == n else 0.0\n",
        "      if y[i, j].item() != expected: return False\n",
        "  return True\n",
        "      \n",
        "x0 = [1, 4, 3, 2]\n",
        "y0 = make_one_hot(x0)\n",
        "print('Here is y0:')\n",
        "print(y0)\n",
        "assert check_one_hot(x0, y0), 'y0 is wrong'\n",
        "\n",
        "x1 = [1, 3, 5, 7, 6, 2]\n",
        "y1 = make_one_hot(x1)\n",
        "print('\\nHere is y1:')\n",
        "print(y1)\n",
        "assert check_one_hot(x1, y1), 'y1 is wrong'\n",
        "\n",
        "print('all checks pass!')"
      ],
      "execution_count": null,
      "outputs": [
        {
          "output_type": "stream",
          "text": [
            "Here is y0:\n",
            "[[0. 1. 0. 0. 0.]\n",
            " [0. 0. 0. 0. 1.]\n",
            " [0. 0. 0. 1. 0.]\n",
            " [0. 0. 1. 0. 0.]]\n",
            "\n",
            "Here is y1:\n",
            "[[0. 1. 0. 0. 0. 0. 0. 0.]\n",
            " [0. 0. 0. 1. 0. 0. 0. 0.]\n",
            " [0. 0. 0. 0. 0. 1. 0. 0.]\n",
            " [0. 0. 0. 0. 0. 0. 0. 1.]\n",
            " [0. 0. 0. 0. 0. 0. 1. 0.]\n",
            " [0. 0. 1. 0. 0. 0. 0. 0.]]\n",
            "all checks pass!\n"
          ],
          "name": "stdout"
        }
      ]
    },
    {
      "cell_type": "markdown",
      "metadata": {
        "id": "oEwW4WoiJI3Q"
      },
      "source": [
        "\n",
        "\n",
        "---\n",
        "\n",
        "\n",
        "\n",
        "---\n",
        "\n",
        "\n",
        "\n",
        "---\n",
        "\n"
      ]
    },
    {
      "cell_type": "markdown",
      "metadata": {
        "id": "RQKJ1ge2uCyC"
      },
      "source": [
        "# Exercise B:\n",
        "\n",
        "### Maximum Likelihood\n",
        "Find the maximum likelihood estimation of parameters $\\boldsymbol\\theta$.\n",
        "\n",
        "Given:\n",
        "\n",
        "$$\n",
        "\\boldsymbol X \\in\\mathbb{R}^{N\\times D} \\quad \\boldsymbol y  \\in\\mathbb{R}^N\n",
        "$$\n",
        "\n",
        "Steps to follow:\n",
        "\n",
        "\n",
        "1.   Initialize Ndarray **X** from a normal distribution with shapes: N = 10 and D = 5.\n",
        "2.   Initialize Ndarray **y** with all ones with shape N = 10 and reshape it to have the shape (N, 1).\n",
        "3.   Compute the maximum likelihood estimation of parameters $\\boldsymbol\\theta$ following the equation and assign it to a variable called **theta**\n",
        "\n",
        "$$\n",
        "\\boldsymbol\\theta = (\\boldsymbol X^T\\boldsymbol X)^{-1}\\boldsymbol X^T\\boldsymbol y\\in\\mathbb{R}^D\n",
        "$$\n",
        "\n",
        "4. print the value of **theta**\n",
        "\n",
        "Hint: check the inverse method from the linear algebra module in Numpy"
      ]
    },
    {
      "cell_type": "code",
      "metadata": {
        "id": "rxshu5NIuBva",
        "colab": {
          "base_uri": "https://localhost:8080/"
        },
        "outputId": "9cde960b-89fa-40ee-aef9-66a83c8d841c"
      },
      "source": [
        "################################################################################\n",
        "# TODO: Compute the maximum likelihood estimation of parameters theta\n",
        "#       following the equation\n",
        "################################################################################\n",
        "from numpy.linalg import inv\n",
        "N=10\n",
        "X = np.random.random((10,5))\n",
        "Y = np.ones((N,1))\n",
        "theta = np.dot(inv(np.dot(X.T,X)),np.dot(X.T,Y))\n",
        "theta\n",
        "\n",
        " \n",
        "################################################################################\n",
        "#                              END OF YOUR CODE                                #\n",
        "################################################################################"
      ],
      "execution_count": null,
      "outputs": [
        {
          "output_type": "execute_result",
          "data": {
            "text/plain": [
              "array([[ 0.57541612],\n",
              "       [-0.55762828],\n",
              "       [ 0.36142586],\n",
              "       [ 0.62709042],\n",
              "       [ 0.85622081]])"
            ]
          },
          "metadata": {
            "tags": []
          },
          "execution_count": 45
        }
      ]
    },
    {
      "cell_type": "code",
      "metadata": {
        "colab": {
          "base_uri": "https://localhost:8080/"
        },
        "id": "daBh-PQE9ZNQ",
        "outputId": "b7b4203e-95ba-424f-c0fc-64305e5f78c0"
      },
      "source": [
        "\n",
        "x"
      ],
      "execution_count": null,
      "outputs": [
        {
          "output_type": "execute_result",
          "data": {
            "text/plain": [
              "array([[0.96874844, 0.11076613, 0.16122408, 0.31285444, 0.38069111],\n",
              "       [0.4534263 , 0.252535  , 0.6374832 , 0.09306801, 0.42514097],\n",
              "       [0.35975576, 0.47663537, 0.1523523 , 0.70402439, 0.54109907],\n",
              "       [0.39377219, 0.65306997, 0.59596346, 0.3519941 , 0.54438929],\n",
              "       [0.24178334, 0.36575216, 0.47075136, 0.72749881, 0.13968423],\n",
              "       [0.61565615, 0.34367241, 0.64170958, 0.55550068, 0.64462164],\n",
              "       [0.21740975, 0.10724852, 0.09947936, 0.64492934, 0.42280824],\n",
              "       [0.22695726, 0.36003922, 0.17564207, 0.41972702, 0.01146878],\n",
              "       [0.77448641, 0.42748416, 0.62269027, 0.34777119, 0.25502209],\n",
              "       [0.2384591 , 0.67843965, 0.91725713, 0.81905021, 0.14363706]])"
            ]
          },
          "metadata": {
            "tags": []
          },
          "execution_count": 43
        }
      ]
    },
    {
      "cell_type": "markdown",
      "metadata": {
        "id": "3wzi6tdVzPwt"
      },
      "source": [
        "\n",
        "\n",
        "---\n",
        "\n",
        "\n",
        "\n",
        "---\n",
        "\n",
        "\n",
        "\n",
        "---\n",
        "\n"
      ]
    },
    {
      "cell_type": "markdown",
      "metadata": {
        "id": "ty0GckhNlpwf"
      },
      "source": [
        "# Exercise B:\n",
        "\n",
        "### The Log Likelihood\n",
        "\n",
        "Find the log likelihood estimation for input X, label y, parameterized by $\\boldsymbol\\theta$.\n",
        "\n",
        "Given:\n",
        "\n",
        "$$\n",
        "\\boldsymbol X \\in\\mathbb{R}^{N\\times D} \\quad \\boldsymbol y  \\in\\mathbb{R}^N \\quad \\boldsymbol \\theta  \\in\\mathbb{R}^D\n",
        "$$\n",
        "\n",
        "steps to follow:\n",
        "\n",
        "1.   Initialize Ndarray **X** from a normal distribution with shapes: N = 10 and D = 5.\n",
        "2.   Initialize Ndarray **y** with all ones with shape N = 10 and reshape it to have the shape (N, 1).\n",
        "3.   Initialize Ndarray **theta** randomly with shape D = 5 and reshape it to have the shape (D, 1).\n",
        "4.   Compute the the probability of a all data points $(\\boldsymbol x, y)$ being of class 1, given by\n",
        "\n",
        "$$p(y = 1 | \\boldsymbol X, \\boldsymbol\\theta) = 1.0/(1.0+\\exp(- \\boldsymbol X \\boldsymbol \\theta))$$\n",
        "\n",
        "5. compute the log Likelihood, given by:\n",
        "$$\\log p(\\boldsymbol y|\\boldsymbol X, \\boldsymbol\\theta) = \\sum_i y_i * \\log (p(y = 1 | \\boldsymbol x, \\boldsymbol\\theta) + (1 - y_i) * \\log ( 1 - p(y = 1 | \\boldsymbol x, \\boldsymbol\\theta))$$\n",
        "\n",
        "6. print the log Likelihood"
      ]
    },
    {
      "cell_type": "code",
      "metadata": {
        "id": "5sm7MTZcoAmH",
        "colab": {
          "base_uri": "https://localhost:8080/"
        },
        "outputId": "9a8f2176-c78c-4609-8e7f-82c769a4e51d"
      },
      "source": [
        "################################################################################\n",
        "# TODO: Compute the log likelihood \n",
        "#    \n",
        "################################################################################\n",
        "\n",
        "\n",
        "X = np.random.randn(10, 5)\n",
        "y = np.ones((10,1))\n",
        "theta = np.random.random((5, 1))\n",
        "\n",
        "p = 1.0/(1 + np.exp(-X @ theta))\n",
        "L = np.sum(y*np.log(p) + (1 - y)*np.log(1 - p))\n",
        "\n",
        "print(L)\n",
        " \n",
        "################################################################################\n",
        "#                              END OF YOUR CODE                                #\n",
        "################################################################################"
      ],
      "execution_count": null,
      "outputs": [
        {
          "output_type": "stream",
          "text": [
            "-6.856698565773221\n"
          ],
          "name": "stdout"
        }
      ]
    }
  ]
}