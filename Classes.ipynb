{
  "nbformat": 4,
  "nbformat_minor": 0,
  "metadata": {
    "colab": {
      "name": "Jeannette_Nyirahakizimana_ In-class coding Classes.ipynb",
      "provenance": []
    },
    "kernelspec": {
      "name": "python3",
      "display_name": "Python 3"
    }
  },
  "cells": [
    {
      "cell_type": "markdown",
      "metadata": {
        "id": "Ou_GOBGhiP3T"
      },
      "source": [
        "\n",
        "# AMMI Bootcamp #\n",
        "## Classes - Exercises ##"
      ]
    },
    {
      "cell_type": "markdown",
      "metadata": {
        "id": "VLpB_tLxkOQA"
      },
      "source": [
        "1. Create a class for a local African currency. This class should have variables that hold a unit value for the currency, another for the *$\\frac{1}{100}$* unit (*ie* cents in many countries) and their corresponding currency units (*ie* Franc CFA). For instance, given an amount 200.50 FCFA, var1 = 200, var2 = 50, var3 = FCFA and var4 = centimes (unit for the *$\\frac{1}{100}th$*).\n",
        "- The constructor should take both base currency unit and that of the *$\\frac{1}{100}th$*(should default to \"None\")\n",
        "- The variables should be made inaccessible outside the class. Instead, add methods that allows reading and setting values appriopriately inside the class. \n",
        "- Further, implement methods that allows *adding* and *subtracting* different amounts of the same currency together as well as *mutliplying* the money by integers. You must also have the `exchange_currencies` method which accepts the exchange rate and between the two currencies before applying the afforementioned operations.\n",
        "- Printing the object should return the value as type *double* followed by the unit of currency. ie 200.20 FCFA\n",
        "- Speak to about 5 of your colleagues or tutors from different countries in class and ask them for their local currencies. Initialise an object for each of these currencies and test your methods inside the class on them."
      ]
    },
    {
      "cell_type": "code",
      "metadata": {
        "id": "VbB1ftRXjEug"
      },
      "source": [
        ""
      ],
      "execution_count": null,
      "outputs": []
    },
    {
      "cell_type": "code",
      "metadata": {
        "id": "BED55lU9OQ_Y"
      },
      "source": [
        "class Localcurrency:\n",
        "\n",
        "  def __init__(self,amount,unit1,unit2):\n",
        "      self.__unit1 = unit1\n",
        "      self.__unit2 = unit2\n",
        "      self.__amount = int(amount)\n",
        "      self.__cents = (amount - int(amount))*100\n",
        "\n",
        "  def get_unit1(self):\n",
        "    return self.__unit1\n",
        "  \n",
        "  def set_unit2(self):\n",
        "    self.__unit2 = unit2\n",
        "  \n",
        "  def get_cents(self):\n",
        "    return self.__cents\n",
        "\n",
        "  def set_cents(self):\n",
        "    self.__cents = cents\n",
        "\n",
        "  def get_amount(self):\n",
        "    return self.__amount\n",
        "\n",
        "  def set_amount(self):\n",
        "    self.__amount = amount\n",
        "\n",
        "  def getAmount(self):\n",
        "    return self.__amount + self.__cents / 100\n",
        "\n",
        "  def __repr__(self):\n",
        "    return \"{} {} and {:.0f} {}\".format(self.__amount, self.__unit1, self.__cents, self.__unit2)\n",
        "\n",
        "  def __add__(self, other):\n",
        "    amount1 = self.getAmount()\n",
        "    amount2 = other.getAmount()\n",
        "\n",
        "    result = amount1 + amount2\n",
        "    return LocalCurrency(result, self.get_unit1(), self.get_unit2())\n",
        "    \n"
      ],
      "execution_count": null,
      "outputs": []
    },
    {
      "cell_type": "code",
      "metadata": {
        "colab": {
          "base_uri": "https://localhost:8080/"
        },
        "id": "pu8HHfHbFqmK",
        "outputId": "6b8e9093-1638-408e-a148-a5efa687f480"
      },
      "source": [
        "cur1 = Localcurrency(420.45, \"CFA\", \"cents\")\n",
        "cur1"
      ],
      "execution_count": null,
      "outputs": [
        {
          "output_type": "execute_result",
          "data": {
            "text/plain": [
              "420 CFA and 45 cents"
            ]
          },
          "metadata": {
            "tags": []
          },
          "execution_count": 34
        }
      ]
    },
    {
      "cell_type": "code",
      "metadata": {
        "id": "VDNO1kqAjF-T"
      },
      "source": [
        ""
      ],
      "execution_count": null,
      "outputs": []
    },
    {
      "cell_type": "markdown",
      "metadata": {
        "id": "Ifa-mixVmlyT"
      },
      "source": [
        "2. Distance metric learning is very important in machine learning. It basically allows us to compute distances as a measure of similarity in dataset. They can also be used as a measure of error in information transmission.\n",
        "In this exercise, lets create a distance class that implements two distance metrics;\n",
        "- Euclidean, $$d(x,y) = \\sqrt{(x - y)^2}$$\n",
        "- Hamming distance. $$d(x,y) = \\sum^N_n\\mathbb{1}(x_n \\ne y_n)$$\n",
        "eg 1. x = 101101, y = 010111; d(x, y) = 4 \n",
        "   2. x = \"pa~nf~o~r~d\", y = \"pa~dm~o~n~d\";  d(x,y) = 3 \n",
        "\n",
        "Implement the\n",
        "* `check_entries` method to check if inputs are string or binary inputs then select the hamming distance else select the euclidean distance. If however, inputs are not of the same type, print \"Cannot compute distance between types ... and ...\" and return. This method should also ensure inputs are of the same length.\n",
        "* `compute_distance()` method that takes inputs x and y, uses the distance selected by the `check_entries` to compute the distance between them.\n",
        "* create another method with print statements telling if the distance computed satisfies the following necessary conditions of a distance metric.\n",
        "  - Non-negative => $d(x,y) \\ge 0 $\n",
        "  - Symmetry => $d(x,y) = d(y,x) $\n",
        "  - Triangle inequality for x, y, z => $d(x,y) \\le d(x, z) + d(z, y)$  \n"
      ]
    },
    {
      "cell_type": "code",
      "metadata": {
        "id": "P_q3NP7qiNov"
      },
      "source": [
        "#code here\n",
        "class Distance:\n",
        "  def __init__(sefl,x,y):\n",
        "    self.x = x\n",
        "    self.y = y\n",
        "\n",
        "  def check_entries(sefl):\n",
        "    if type(self.x )== type(self.y) == str :\n",
        "      print('Is the hamming distance')\n",
        "    else:\n",
        "      print('Is euclidian distance')\n",
        "\n",
        "    elif type(self.x)!= type(self.y) == str:\n",
        "      print('Cannot compute distance between types')\n",
        "    if len(self.x) =len(self.y)\n"
      ],
      "execution_count": null,
      "outputs": []
    },
    {
      "cell_type": "markdown",
      "metadata": {
        "id": "XBT8DzCAiOot"
      },
      "source": [
        "3. Define a class called `Odometer` that will track fuel and mileage for an automotive\n",
        "vehicle. The class should have instance variables to track the miles driven and the fuel efficiency of the vehicle in miles per gallon. Include a mutator or setter function to reset\n",
        "the odometer to zero miles, a setter function to set the fuel efficiency, a setter function that accepts miles driven for a trip and adds it to the odometer’s total, and an accessor or a getter function that returns the number of gallons of gasoline that the vehicle has consumed since the odometer was last reset.\n",
        " Use your class with a test program that creates several trips with different fuel efficiencies. You should decide which variables should be public, if any. "
      ]
    },
    {
      "cell_type": "code",
      "metadata": {
        "id": "B-Y0zriHTI_4"
      },
      "source": [
        "# CODE HERE"
      ],
      "execution_count": null,
      "outputs": []
    },
    {
      "cell_type": "markdown",
      "metadata": {
        "id": "h6jTQwlNVGOz"
      },
      "source": [
        "4. Create a Temperature class that internally stores a temperature in degrees\n",
        " Kelvin. Create functions named `setTempKelvin` , `setTempFahrenheit` , and\n",
        "`setTempCelsius` that take an input temperature in the specified temperature\n",
        "scale, convert the temperature to Kelvin, and store that temperature in the\n",
        "class variable. Also, create functions that return the stored temperature\n",
        "in degrees Kelvin, Fahrenheit, or Celsius. \n",
        "Use the equations shown next to convert between the three temperature scales.\n",
        " - Kelvin = Celsius + 273.15\n",
        " - Celsius = (5.0/9) * (Fahrenheit - 32) "
      ]
    },
    {
      "cell_type": "code",
      "metadata": {
        "id": "GxWTpMjlVHcv"
      },
      "source": [
        "# CODE HERE\n",
        "\n"
      ],
      "execution_count": null,
      "outputs": []
    },
    {
      "cell_type": "markdown",
      "metadata": {
        "id": "zFEJ7FOEwEiL"
      },
      "source": [
        "5. Create a class that will solve a $2\\text{x}2$ linear equation using the formulae that follows; \n",
        "\n",
        "given: \n",
        "\n",
        "$ax + by = e$ and\n",
        "\n",
        " $cx + dy = f$\n",
        "\n",
        "$x = \\frac{ed - bf}{ad - bc}$ , $y = \\frac{af - ec}{ad - bc}$\n",
        "\n",
        "- Give the class an appropriate name.\n",
        "- The constructor should receive all 6 arguments, *a , b , c , d , e ,* and *f*. \n",
        "- Each of the variables should be made private and accessible only through getter methods.\n",
        "- Define a method called `isSolvable()` that returns True if; $$ad - bc \\ne 0$$\n",
        "- Lastly define two get methods that returns the solutions for $x$ and $y$."
      ]
    },
    {
      "cell_type": "code",
      "metadata": {
        "id": "MwDUu6Glv-8v"
      },
      "source": [
        "class LinearEquation:\n",
        "  \n",
        "  def __init__(self,a,b,c,d,e,f):\n",
        "    self.__a = a\n",
        "    self.__b = b\n",
        "    self.__C = c\n",
        "    self.__d = d\n",
        "    self.__e = e\n",
        "    self.__f = f\n",
        "\n",
        "  def get_a(self):\n",
        "    return self.__a\n",
        "\n",
        "  def get_b(self):\n",
        "    return self.__b\n",
        "\n",
        "  def get_c(self):\n",
        "    return self.__C\n",
        "\n",
        "  def get_d(self):\n",
        "    return self.__d\n",
        "\n",
        "  def get_e(self):\n",
        "    return self.__e\n",
        "\n",
        "  def get_f(self):\n",
        "    return self.__f\n",
        "\n",
        "  def issolvable(self):\n",
        "    if (self.__a*self.__b - self.__b*self.__c)!= 0:\n",
        "      return True\n",
        "\n",
        "  def get_x(self):   \n",
        "    return (self.__e*self.__d - self.__b*self.__f)/(self.__a*self.__d - self.__b*self.__c)\n",
        "\n",
        "  def get_y(self):\n",
        "    \n",
        "    return (self.__a*self.__f - self.__e*self.__c)/(self.__a*self.__d - self.__b*self.__c)"
      ],
      "execution_count": null,
      "outputs": []
    },
    {
      "cell_type": "code",
      "metadata": {
        "id": "dJLkxD75-VRr"
      },
      "source": [
        ""
      ],
      "execution_count": null,
      "outputs": []
    }
  ]
}