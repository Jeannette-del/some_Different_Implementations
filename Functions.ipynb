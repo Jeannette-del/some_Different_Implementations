{
  "nbformat": 4,
  "nbformat_minor": 0,
  "metadata": {
    "colab": {
      "name": "Jeannette-Nyirahakizimana_Exercise.ipynb",
      "provenance": []
    },
    "kernelspec": {
      "name": "python3",
      "display_name": "Python 3"
    }
  },
  "cells": [
    {
      "cell_type": "code",
      "metadata": {
        "id": "pX3AteiXGtcz"
      },
      "source": [
        "import math"
      ],
      "execution_count": null,
      "outputs": []
    },
    {
      "cell_type": "code",
      "metadata": {
        "id": "7r6YExRdMQ_i"
      },
      "source": [
        "def convertFahrenheit(C):\n",
        "\n",
        "  f = 9/5*C+32\n",
        "  return f\n",
        "\n",
        "   "
      ],
      "execution_count": null,
      "outputs": []
    },
    {
      "cell_type": "code",
      "metadata": {
        "colab": {
          "base_uri": "https://localhost:8080/"
        },
        "id": "NyGQvTD4FPQQ",
        "outputId": "b7deabc8-f4c5-4ee1-8b07-645d6da61a8f"
      },
      "source": [
        "\n",
        "\n",
        "C = float(input(\"Enter temperature C: \"))\n",
        "f = convertFahrenheit(C)\n",
        "print('Fahrenheit: {}'.format(f))"
      ],
      "execution_count": null,
      "outputs": [
        {
          "output_type": "stream",
          "text": [
            "Enter temperature C: 34\n",
            "Fahrenheit: 93.2\n"
          ],
          "name": "stdout"
        }
      ]
    },
    {
      "cell_type": "code",
      "metadata": {
        "id": "SEmFRp2kT_P1"
      },
      "source": [
        "def converCelicious(F):\n",
        "  C =( F-32)*5/9\n",
        "  return C"
      ],
      "execution_count": null,
      "outputs": []
    },
    {
      "cell_type": "code",
      "metadata": {
        "colab": {
          "base_uri": "https://localhost:8080/"
        },
        "id": "unHTU6kjUl4u",
        "outputId": "ac9b626c-2f27-4352-e290-ec59f83a6fbf"
      },
      "source": [
        "F = float(input(\"Enter temperature F: \"))\n",
        "f = converCelicious(F)\n",
        "print('Celicious: {}'.format(f))"
      ],
      "execution_count": null,
      "outputs": [
        {
          "output_type": "stream",
          "text": [
            "Enter temperature F: 90\n",
            "Celicious: 32.22222222222222\n"
          ],
          "name": "stdout"
        }
      ]
    },
    {
      "cell_type": "code",
      "metadata": {
        "id": "2jV7gztxVHCN"
      },
      "source": [
        ""
      ],
      "execution_count": null,
      "outputs": []
    },
    {
      "cell_type": "markdown",
      "metadata": {
        "id": "buA26EzfVr5i"
      },
      "source": [
        "Exerci2"
      ]
    },
    {
      "cell_type": "code",
      "metadata": {
        "id": "IRjwTcuyVutD"
      },
      "source": [
        "def motion(v0,t,g):\n",
        "  \n",
        "    x = [v0*t-0.5*g*t**2 for t in j]\n",
        "    v = [v0-g*t for t in j]\n",
        "    a = [-g for t in j]\n",
        "    return x,v,a\n",
        "\n",
        "    #x=[]\n",
        "    #v=[]\n",
        "    #a=[]\n",
        "    #x.append(v0*t-0.5*g*t**2 )\n",
        "    #v.append(v0-g*t )\n",
        "    #a.append(-g)"
      ],
      "execution_count": null,
      "outputs": []
    },
    {
      "cell_type": "code",
      "metadata": {
        "id": "YNaz0eOrWqg2"
      },
      "source": [
        "j = [0.05*i for i in range(10)]\n",
        "v0 = 5\n",
        "g = 9.81\n"
      ],
      "execution_count": null,
      "outputs": []
    },
    {
      "cell_type": "code",
      "metadata": {
        "colab": {
          "base_uri": "https://localhost:8080/"
        },
        "id": "aMndiXL6Z6cS",
        "outputId": "5a69d4ee-8570-4bf3-958c-f90574f961cb"
      },
      "source": [
        "x,v,a = motion(v0,t,g)\n",
        "print(x,v,a)"
      ],
      "execution_count": null,
      "outputs": [
        {
          "output_type": "stream",
          "text": [
            "[0.0, 0.2377375, 0.45094999999999996, 0.6396375000000001, 0.8038, 0.9434374999999999, 1.05855, 1.1491375000000001, 1.2151999999999998, 1.2567374999999998] [5.0, 4.5095, 4.019, 3.5284999999999997, 3.038, 2.5475, 2.0569999999999995, 1.5664999999999996, 1.0759999999999996, 0.5854999999999997] [-9.81, -9.81, -9.81, -9.81, -9.81, -9.81, -9.81, -9.81, -9.81, -9.81]\n"
          ],
          "name": "stdout"
        }
      ]
    },
    {
      "cell_type": "code",
      "metadata": {
        "id": "-8tgmo_mm8rm"
      },
      "source": [
        ""
      ],
      "execution_count": null,
      "outputs": []
    },
    {
      "cell_type": "markdown",
      "metadata": {
        "id": "8d9ZPYAueB1b"
      },
      "source": [
        "Exercise 3"
      ]
    },
    {
      "cell_type": "code",
      "metadata": {
        "id": "ZugnetxVd35i"
      },
      "source": [
        "def sum(a,b,n):\n",
        "  s=0\n",
        "  h=(b-a)/(n-1)\n",
        "  for i in range(1,n-1):\n",
        "    x=a+i*h\n",
        "    s+=(1/i)*(x/(1+x))**i \n",
        "  return s"
      ],
      "execution_count": null,
      "outputs": []
    },
    {
      "cell_type": "code",
      "metadata": {
        "colab": {
          "base_uri": "https://localhost:8080/"
        },
        "id": "DylujUtinvN_",
        "outputId": "ea33a94b-258a-498f-bac4-6422737eede6"
      },
      "source": [
        "sum(5,15,20)"
      ],
      "execution_count": null,
      "outputs": [
        {
          "output_type": "execute_result",
          "data": {
            "text/plain": [
              "2.170689249208771"
            ]
          },
          "metadata": {
            "tags": []
          },
          "execution_count": 125
        }
      ]
    },
    {
      "cell_type": "code",
      "metadata": {
        "id": "m9q_ZcDgnx2h"
      },
      "source": [
        ""
      ],
      "execution_count": null,
      "outputs": []
    },
    {
      "cell_type": "markdown",
      "metadata": {
        "id": "4DoVUqeDoXpV"
      },
      "source": [
        "exercise 4"
      ]
    },
    {
      "cell_type": "code",
      "metadata": {
        "id": "OqIm5O3fof5z"
      },
      "source": [
        "def move(L,n):\n",
        "  count = 0\n",
        "  for i in range(n):\n",
        "    if L[i]!=0:\n",
        "      L[count] = L[i]\n",
        "      count+=1\n",
        "  while count < n:\n",
        "      L[count] = 0\n",
        "      count+=1\n",
        "  return L"
      ],
      "execution_count": null,
      "outputs": []
    },
    {
      "cell_type": "code",
      "metadata": {
        "colab": {
          "base_uri": "https://localhost:8080/"
        },
        "id": "EaHY-0iRzMlm",
        "outputId": "63443b14-c45e-44a0-b4ef-2db6f2052ab4"
      },
      "source": [
        "L = [0,1,0,3,12]\n",
        "n =len(L)\n",
        "Y = move(L,n)\n",
        "print(Y)"
      ],
      "execution_count": null,
      "outputs": [
        {
          "output_type": "stream",
          "text": [
            "[1, 3, 12, 0, 0]\n"
          ],
          "name": "stdout"
        }
      ]
    },
    {
      "cell_type": "markdown",
      "metadata": {
        "id": "8AnQozn_129c"
      },
      "source": [
        "Exercise 5"
      ]
    },
    {
      "cell_type": "code",
      "metadata": {
        "id": "7C5bu8qY15iv"
      },
      "source": [
        ""
      ],
      "execution_count": null,
      "outputs": []
    }
  ]
}