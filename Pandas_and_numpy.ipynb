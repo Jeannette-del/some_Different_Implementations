{
  "nbformat": 4,
  "nbformat_minor": 0,
  "metadata": {
    "colab": {
      "name": "Jeannette_Nyirahakizimana_Bootcamp_Day7_Exercise.ipynb",
      "provenance": [],
      "collapsed_sections": []
    },
    "kernelspec": {
      "name": "python3",
      "display_name": "Python 3"
    }
  },
  "cells": [
    {
      "cell_type": "code",
      "metadata": {
        "id": "70MAiqiRGRgX"
      },
      "source": [
        "# TODO: import pandas and numpy here\n",
        "# \n",
        "import pandas as pd\n",
        "import numpy as np"
      ],
      "execution_count": null,
      "outputs": []
    },
    {
      "cell_type": "markdown",
      "metadata": {
        "id": "AjD0IEISIxy5"
      },
      "source": [
        "Part 1: Setting up"
      ]
    },
    {
      "cell_type": "markdown",
      "metadata": {
        "id": "EybAEzsrIDAa"
      },
      "source": [
        "1. Make a directory called data. Hint: use `mkdir`\n",
        "2. Download the iris dataset into this folder.\n",
        "The files can be found in \n",
        "https://archive.ics.uci.edu/ml/machine-learning-databases/iris/\n",
        "3. Import the `iris.data` file as a csv. The csv file does not have an header included.\n",
        "4. check the `iris.names` file. It has the names of the columns. Modify the column names in your dataframe to the column names given.\n",
        "5. View your data. How many columns contain numbers? Use a pandas function to check it.\n",
        "6. Get some statistics of your dataframe. Do we have missing data in the dataframe?\n",
        "7. Convert the last column to integer values. Most machine learnin algorithms do not accept text. Use `df.replace`. Don't forget to perform these operations in-place"
      ]
    },
    {
      "cell_type": "code",
      "metadata": {
        "id": "r_c_noLeGNFi",
        "colab": {
          "base_uri": "https://localhost:8080/"
        },
        "outputId": "ca3dba27-f27c-4256-864c-9ff58ef828a9"
      },
      "source": [
        "# TODO: create a directory named \"data\"\n",
        "!mkdir data\n",
        "\n",
        "path ='/content/data'"
      ],
      "execution_count": null,
      "outputs": [
        {
          "output_type": "stream",
          "text": [
            "mkdir: cannot create directory ‘data’: File exists\n"
          ],
          "name": "stdout"
        }
      ]
    },
    {
      "cell_type": "code",
      "metadata": {
        "id": "oxUO7Vi4GFgF",
        "colab": {
          "base_uri": "https://localhost:8080/"
        },
        "outputId": "9dbeb782-e2f5-4ac6-91c6-f2ee47938f2a"
      },
      "source": [
        "# TODO: Download iris.names and iris..data from link provided. Hint: Use wget\n",
        "!wget -P data https://archive.ics.uci.edu/ml/machine-learning-databases/iris/iris.data\n"
      ],
      "execution_count": null,
      "outputs": [
        {
          "output_type": "stream",
          "text": [
            "--2021-02-03 01:03:24--  https://archive.ics.uci.edu/ml/machine-learning-databases/iris/iris.data\n",
            "Resolving archive.ics.uci.edu (archive.ics.uci.edu)... 128.195.10.252\n",
            "Connecting to archive.ics.uci.edu (archive.ics.uci.edu)|128.195.10.252|:443... connected.\n",
            "HTTP request sent, awaiting response... 200 OK\n",
            "Length: 4551 (4.4K) [application/x-httpd-php]\n",
            "Saving to: ‘data/iris.data.1’\n",
            "\n",
            "iris.data.1         100%[===================>]   4.44K  --.-KB/s    in 0s      \n",
            "\n",
            "2021-02-03 01:03:25 (168 MB/s) - ‘data/iris.data.1’ saved [4551/4551]\n",
            "\n"
          ],
          "name": "stdout"
        }
      ]
    },
    {
      "cell_type": "code",
      "metadata": {
        "colab": {
          "base_uri": "https://localhost:8080/"
        },
        "id": "i4T46DVZ2fbH",
        "outputId": "28110fd5-210c-4581-908b-8fc7b1ce6d99"
      },
      "source": [
        "!wget -P data https://archive.ics.uci.edu/ml/machine-learning-databases/iris/iris.names"
      ],
      "execution_count": null,
      "outputs": [
        {
          "output_type": "stream",
          "text": [
            "--2021-02-03 01:03:30--  https://archive.ics.uci.edu/ml/machine-learning-databases/iris/iris.names\n",
            "Resolving archive.ics.uci.edu (archive.ics.uci.edu)... 128.195.10.252\n",
            "Connecting to archive.ics.uci.edu (archive.ics.uci.edu)|128.195.10.252|:443... connected.\n",
            "HTTP request sent, awaiting response... 200 OK\n",
            "Length: 2998 (2.9K) [application/x-httpd-php]\n",
            "Saving to: ‘data/iris.names.1’\n",
            "\n",
            "iris.names.1        100%[===================>]   2.93K  --.-KB/s    in 0s      \n",
            "\n",
            "2021-02-03 01:03:31 (58.8 MB/s) - ‘data/iris.names.1’ saved [2998/2998]\n",
            "\n"
          ],
          "name": "stdout"
        }
      ]
    },
    {
      "cell_type": "code",
      "metadata": {
        "id": "3-7iZ8DRGxSY"
      },
      "source": [
        "# TODO: read in the table. Save as a dataframe called \"iris_df\"\n",
        "iris_df = pd.read_csv('/content/data/iris.data', sep=',')"
      ],
      "execution_count": null,
      "outputs": []
    },
    {
      "cell_type": "code",
      "metadata": {
        "id": "ZEW0zOxsHVoz",
        "colab": {
          "base_uri": "https://localhost:8080/",
          "height": 206
        },
        "outputId": "2b087353-565c-4206-fdb3-ee507b47e711"
      },
      "source": [
        "iris_df.head()"
      ],
      "execution_count": null,
      "outputs": [
        {
          "output_type": "execute_result",
          "data": {
            "text/html": [
              "<div>\n",
              "<style scoped>\n",
              "    .dataframe tbody tr th:only-of-type {\n",
              "        vertical-align: middle;\n",
              "    }\n",
              "\n",
              "    .dataframe tbody tr th {\n",
              "        vertical-align: top;\n",
              "    }\n",
              "\n",
              "    .dataframe thead th {\n",
              "        text-align: right;\n",
              "    }\n",
              "</style>\n",
              "<table border=\"1\" class=\"dataframe\">\n",
              "  <thead>\n",
              "    <tr style=\"text-align: right;\">\n",
              "      <th></th>\n",
              "      <th>5.1</th>\n",
              "      <th>3.5</th>\n",
              "      <th>1.4</th>\n",
              "      <th>0.2</th>\n",
              "      <th>Iris-setosa</th>\n",
              "    </tr>\n",
              "  </thead>\n",
              "  <tbody>\n",
              "    <tr>\n",
              "      <th>0</th>\n",
              "      <td>4.9</td>\n",
              "      <td>3.0</td>\n",
              "      <td>1.4</td>\n",
              "      <td>0.2</td>\n",
              "      <td>Iris-setosa</td>\n",
              "    </tr>\n",
              "    <tr>\n",
              "      <th>1</th>\n",
              "      <td>4.7</td>\n",
              "      <td>3.2</td>\n",
              "      <td>1.3</td>\n",
              "      <td>0.2</td>\n",
              "      <td>Iris-setosa</td>\n",
              "    </tr>\n",
              "    <tr>\n",
              "      <th>2</th>\n",
              "      <td>4.6</td>\n",
              "      <td>3.1</td>\n",
              "      <td>1.5</td>\n",
              "      <td>0.2</td>\n",
              "      <td>Iris-setosa</td>\n",
              "    </tr>\n",
              "    <tr>\n",
              "      <th>3</th>\n",
              "      <td>5.0</td>\n",
              "      <td>3.6</td>\n",
              "      <td>1.4</td>\n",
              "      <td>0.2</td>\n",
              "      <td>Iris-setosa</td>\n",
              "    </tr>\n",
              "    <tr>\n",
              "      <th>4</th>\n",
              "      <td>5.4</td>\n",
              "      <td>3.9</td>\n",
              "      <td>1.7</td>\n",
              "      <td>0.4</td>\n",
              "      <td>Iris-setosa</td>\n",
              "    </tr>\n",
              "  </tbody>\n",
              "</table>\n",
              "</div>"
            ],
            "text/plain": [
              "   5.1  3.5  1.4  0.2  Iris-setosa\n",
              "0  4.9  3.0  1.4  0.2  Iris-setosa\n",
              "1  4.7  3.2  1.3  0.2  Iris-setosa\n",
              "2  4.6  3.1  1.5  0.2  Iris-setosa\n",
              "3  5.0  3.6  1.4  0.2  Iris-setosa\n",
              "4  5.4  3.9  1.7  0.4  Iris-setosa"
            ]
          },
          "metadata": {
            "tags": []
          },
          "execution_count": 65
        }
      ]
    },
    {
      "cell_type": "code",
      "metadata": {
        "id": "C-jf5eblJu9k"
      },
      "source": [
        "# TODO: Add column names to the dataframe.\n",
        "\n",
        "iris_df1 = iris_df.rename(columns={'5.1' :'sepal length in cm' ,'3.5':'sepal width in cm', '1.4':'petal length in cm' ,'0.2':'petpal width in cm' ,'Iris-setosa':'Class'})"
      ],
      "execution_count": null,
      "outputs": []
    },
    {
      "cell_type": "code",
      "metadata": {
        "colab": {
          "base_uri": "https://localhost:8080/",
          "height": 206
        },
        "id": "5PpqMMXE7aql",
        "outputId": "bff1a850-e821-4ebf-bbe2-e7127a42c707"
      },
      "source": [
        "iris_df1.head()"
      ],
      "execution_count": null,
      "outputs": [
        {
          "output_type": "execute_result",
          "data": {
            "text/html": [
              "<div>\n",
              "<style scoped>\n",
              "    .dataframe tbody tr th:only-of-type {\n",
              "        vertical-align: middle;\n",
              "    }\n",
              "\n",
              "    .dataframe tbody tr th {\n",
              "        vertical-align: top;\n",
              "    }\n",
              "\n",
              "    .dataframe thead th {\n",
              "        text-align: right;\n",
              "    }\n",
              "</style>\n",
              "<table border=\"1\" class=\"dataframe\">\n",
              "  <thead>\n",
              "    <tr style=\"text-align: right;\">\n",
              "      <th></th>\n",
              "      <th>sepal length in cm</th>\n",
              "      <th>sepal width in cm</th>\n",
              "      <th>petal length in cm</th>\n",
              "      <th>petpal width in cm</th>\n",
              "      <th>Class</th>\n",
              "    </tr>\n",
              "  </thead>\n",
              "  <tbody>\n",
              "    <tr>\n",
              "      <th>0</th>\n",
              "      <td>4.9</td>\n",
              "      <td>3.0</td>\n",
              "      <td>1.4</td>\n",
              "      <td>0.2</td>\n",
              "      <td>Iris-setosa</td>\n",
              "    </tr>\n",
              "    <tr>\n",
              "      <th>1</th>\n",
              "      <td>4.7</td>\n",
              "      <td>3.2</td>\n",
              "      <td>1.3</td>\n",
              "      <td>0.2</td>\n",
              "      <td>Iris-setosa</td>\n",
              "    </tr>\n",
              "    <tr>\n",
              "      <th>2</th>\n",
              "      <td>4.6</td>\n",
              "      <td>3.1</td>\n",
              "      <td>1.5</td>\n",
              "      <td>0.2</td>\n",
              "      <td>Iris-setosa</td>\n",
              "    </tr>\n",
              "    <tr>\n",
              "      <th>3</th>\n",
              "      <td>5.0</td>\n",
              "      <td>3.6</td>\n",
              "      <td>1.4</td>\n",
              "      <td>0.2</td>\n",
              "      <td>Iris-setosa</td>\n",
              "    </tr>\n",
              "    <tr>\n",
              "      <th>4</th>\n",
              "      <td>5.4</td>\n",
              "      <td>3.9</td>\n",
              "      <td>1.7</td>\n",
              "      <td>0.4</td>\n",
              "      <td>Iris-setosa</td>\n",
              "    </tr>\n",
              "  </tbody>\n",
              "</table>\n",
              "</div>"
            ],
            "text/plain": [
              "   sepal length in cm  sepal width in cm  ...  petpal width in cm        Class\n",
              "0                 4.9                3.0  ...                 0.2  Iris-setosa\n",
              "1                 4.7                3.2  ...                 0.2  Iris-setosa\n",
              "2                 4.6                3.1  ...                 0.2  Iris-setosa\n",
              "3                 5.0                3.6  ...                 0.2  Iris-setosa\n",
              "4                 5.4                3.9  ...                 0.4  Iris-setosa\n",
              "\n",
              "[5 rows x 5 columns]"
            ]
          },
          "metadata": {
            "tags": []
          },
          "execution_count": 75
        }
      ]
    },
    {
      "cell_type": "code",
      "metadata": {
        "id": "hE9lNXRdHZ-d",
        "colab": {
          "base_uri": "https://localhost:8080/"
        },
        "outputId": "3c8d0cf6-9cb8-445e-cdaf-dff1cfef3ba1"
      },
      "source": [
        "# How many examples are in the dataframe?\n",
        "\n",
        "# TODO: print the length of the dataframe\n",
        "#iris_df1.info()\n",
        "#iris_df1.shape\n",
        "len(iris_df1)"
      ],
      "execution_count": null,
      "outputs": [
        {
          "output_type": "execute_result",
          "data": {
            "text/plain": [
              "149"
            ]
          },
          "metadata": {
            "tags": []
          },
          "execution_count": 76
        }
      ]
    },
    {
      "cell_type": "code",
      "metadata": {
        "id": "qucBUW_bcP9G"
      },
      "source": [
        "## Test. DO NOT MODIFY THIS CELL\n",
        "\n",
        "assert len(iris_df) == 150, \"Length of dataframe is incorrect. You must have read the CSV wrongly\""
      ],
      "execution_count": null,
      "outputs": []
    },
    {
      "cell_type": "code",
      "metadata": {
        "id": "GDZq4BgeHnHM",
        "colab": {
          "base_uri": "https://localhost:8080/"
        },
        "outputId": "6cd0075f-942f-4ecd-a37e-584d5b2ac71e"
      },
      "source": [
        "# Which columns does not contain numbers\n",
        "\n",
        "# TODO: check the columns that contain numbers\n",
        "iris_df1.info()"
      ],
      "execution_count": null,
      "outputs": [
        {
          "output_type": "stream",
          "text": [
            "<class 'pandas.core.frame.DataFrame'>\n",
            "RangeIndex: 149 entries, 0 to 148\n",
            "Data columns (total 5 columns):\n",
            " #   Column              Non-Null Count  Dtype  \n",
            "---  ------              --------------  -----  \n",
            " 0   sepal length in cm  149 non-null    float64\n",
            " 1   sepal width in cm   149 non-null    float64\n",
            " 2   petal length in cm  149 non-null    float64\n",
            " 3   petpal width in cm  149 non-null    float64\n",
            " 4   Class               149 non-null    object \n",
            "dtypes: float64(4), object(1)\n",
            "memory usage: 5.9+ KB\n"
          ],
          "name": "stdout"
        }
      ]
    },
    {
      "cell_type": "code",
      "metadata": {
        "id": "6Yd6axbvHwck"
      },
      "source": [
        "# TODO: Get some statistics of your data. Are there any missing values?\n"
      ],
      "execution_count": null,
      "outputs": []
    },
    {
      "cell_type": "code",
      "metadata": {
        "id": "YgJD8QK7Oh_M",
        "colab": {
          "base_uri": "https://localhost:8080/",
          "height": 300
        },
        "outputId": "624199a4-79e0-4ace-c6db-459d68030ba1"
      },
      "source": [
        "iris_df1.describe()"
      ],
      "execution_count": null,
      "outputs": [
        {
          "output_type": "execute_result",
          "data": {
            "text/html": [
              "<div>\n",
              "<style scoped>\n",
              "    .dataframe tbody tr th:only-of-type {\n",
              "        vertical-align: middle;\n",
              "    }\n",
              "\n",
              "    .dataframe tbody tr th {\n",
              "        vertical-align: top;\n",
              "    }\n",
              "\n",
              "    .dataframe thead th {\n",
              "        text-align: right;\n",
              "    }\n",
              "</style>\n",
              "<table border=\"1\" class=\"dataframe\">\n",
              "  <thead>\n",
              "    <tr style=\"text-align: right;\">\n",
              "      <th></th>\n",
              "      <th>sepal length in cm</th>\n",
              "      <th>sepal width in cm</th>\n",
              "      <th>petal length in cm</th>\n",
              "      <th>petpal width in cm</th>\n",
              "    </tr>\n",
              "  </thead>\n",
              "  <tbody>\n",
              "    <tr>\n",
              "      <th>count</th>\n",
              "      <td>149.000000</td>\n",
              "      <td>149.000000</td>\n",
              "      <td>149.000000</td>\n",
              "      <td>149.000000</td>\n",
              "    </tr>\n",
              "    <tr>\n",
              "      <th>mean</th>\n",
              "      <td>5.848322</td>\n",
              "      <td>3.051007</td>\n",
              "      <td>3.774497</td>\n",
              "      <td>1.205369</td>\n",
              "    </tr>\n",
              "    <tr>\n",
              "      <th>std</th>\n",
              "      <td>0.828594</td>\n",
              "      <td>0.433499</td>\n",
              "      <td>1.759651</td>\n",
              "      <td>0.761292</td>\n",
              "    </tr>\n",
              "    <tr>\n",
              "      <th>min</th>\n",
              "      <td>4.300000</td>\n",
              "      <td>2.000000</td>\n",
              "      <td>1.000000</td>\n",
              "      <td>0.100000</td>\n",
              "    </tr>\n",
              "    <tr>\n",
              "      <th>25%</th>\n",
              "      <td>5.100000</td>\n",
              "      <td>2.800000</td>\n",
              "      <td>1.600000</td>\n",
              "      <td>0.300000</td>\n",
              "    </tr>\n",
              "    <tr>\n",
              "      <th>50%</th>\n",
              "      <td>5.800000</td>\n",
              "      <td>3.000000</td>\n",
              "      <td>4.400000</td>\n",
              "      <td>1.300000</td>\n",
              "    </tr>\n",
              "    <tr>\n",
              "      <th>75%</th>\n",
              "      <td>6.400000</td>\n",
              "      <td>3.300000</td>\n",
              "      <td>5.100000</td>\n",
              "      <td>1.800000</td>\n",
              "    </tr>\n",
              "    <tr>\n",
              "      <th>max</th>\n",
              "      <td>7.900000</td>\n",
              "      <td>4.400000</td>\n",
              "      <td>6.900000</td>\n",
              "      <td>2.500000</td>\n",
              "    </tr>\n",
              "  </tbody>\n",
              "</table>\n",
              "</div>"
            ],
            "text/plain": [
              "       sepal length in cm  ...  petpal width in cm\n",
              "count          149.000000  ...          149.000000\n",
              "mean             5.848322  ...            1.205369\n",
              "std              0.828594  ...            0.761292\n",
              "min              4.300000  ...            0.100000\n",
              "25%              5.100000  ...            0.300000\n",
              "50%              5.800000  ...            1.300000\n",
              "75%              6.400000  ...            1.800000\n",
              "max              7.900000  ...            2.500000\n",
              "\n",
              "[8 rows x 4 columns]"
            ]
          },
          "metadata": {
            "tags": []
          },
          "execution_count": 78
        }
      ]
    },
    {
      "cell_type": "code",
      "metadata": {
        "colab": {
          "base_uri": "https://localhost:8080/"
        },
        "id": "ztFdPpgRBgFZ",
        "outputId": "68d3e77c-a39b-46d6-e487-395c42ff2823"
      },
      "source": [
        "iris_df1.isnull().sum()"
      ],
      "execution_count": null,
      "outputs": [
        {
          "output_type": "execute_result",
          "data": {
            "text/plain": [
              "sepal length in cm    0\n",
              "sepal width in cm     0\n",
              "petal length in cm    0\n",
              "petpal width in cm    0\n",
              "Class                 0\n",
              "dtype: int64"
            ]
          },
          "metadata": {
            "tags": []
          },
          "execution_count": 79
        }
      ]
    },
    {
      "cell_type": "code",
      "metadata": {
        "colab": {
          "base_uri": "https://localhost:8080/",
          "height": 206
        },
        "id": "GtIkET60afz0",
        "outputId": "aab3feb9-9b6d-435c-e4e8-6dfb8016531b"
      },
      "source": [
        "iris_df1['Class'] = pd.Categorical(iris_df1['Class'])\n",
        "iris_df1['Class'] = iris_df1.Class.cat.codes\n",
        "iris_df1.head()"
      ],
      "execution_count": null,
      "outputs": [
        {
          "output_type": "execute_result",
          "data": {
            "text/html": [
              "<div>\n",
              "<style scoped>\n",
              "    .dataframe tbody tr th:only-of-type {\n",
              "        vertical-align: middle;\n",
              "    }\n",
              "\n",
              "    .dataframe tbody tr th {\n",
              "        vertical-align: top;\n",
              "    }\n",
              "\n",
              "    .dataframe thead th {\n",
              "        text-align: right;\n",
              "    }\n",
              "</style>\n",
              "<table border=\"1\" class=\"dataframe\">\n",
              "  <thead>\n",
              "    <tr style=\"text-align: right;\">\n",
              "      <th></th>\n",
              "      <th>sepal length in cm</th>\n",
              "      <th>sepal width in cm</th>\n",
              "      <th>petal length in cm</th>\n",
              "      <th>petpal width in cm</th>\n",
              "      <th>Class</th>\n",
              "    </tr>\n",
              "  </thead>\n",
              "  <tbody>\n",
              "    <tr>\n",
              "      <th>0</th>\n",
              "      <td>4.9</td>\n",
              "      <td>3.0</td>\n",
              "      <td>1.4</td>\n",
              "      <td>0.2</td>\n",
              "      <td>0</td>\n",
              "    </tr>\n",
              "    <tr>\n",
              "      <th>1</th>\n",
              "      <td>4.7</td>\n",
              "      <td>3.2</td>\n",
              "      <td>1.3</td>\n",
              "      <td>0.2</td>\n",
              "      <td>0</td>\n",
              "    </tr>\n",
              "    <tr>\n",
              "      <th>2</th>\n",
              "      <td>4.6</td>\n",
              "      <td>3.1</td>\n",
              "      <td>1.5</td>\n",
              "      <td>0.2</td>\n",
              "      <td>0</td>\n",
              "    </tr>\n",
              "    <tr>\n",
              "      <th>3</th>\n",
              "      <td>5.0</td>\n",
              "      <td>3.6</td>\n",
              "      <td>1.4</td>\n",
              "      <td>0.2</td>\n",
              "      <td>0</td>\n",
              "    </tr>\n",
              "    <tr>\n",
              "      <th>4</th>\n",
              "      <td>5.4</td>\n",
              "      <td>3.9</td>\n",
              "      <td>1.7</td>\n",
              "      <td>0.4</td>\n",
              "      <td>0</td>\n",
              "    </tr>\n",
              "  </tbody>\n",
              "</table>\n",
              "</div>"
            ],
            "text/plain": [
              "   sepal length in cm  sepal width in cm  ...  petpal width in cm  Class\n",
              "0                 4.9                3.0  ...                 0.2      0\n",
              "1                 4.7                3.2  ...                 0.2      0\n",
              "2                 4.6                3.1  ...                 0.2      0\n",
              "3                 5.0                3.6  ...                 0.2      0\n",
              "4                 5.4                3.9  ...                 0.4      0\n",
              "\n",
              "[5 rows x 5 columns]"
            ]
          },
          "metadata": {
            "tags": []
          },
          "execution_count": 92
        }
      ]
    },
    {
      "cell_type": "code",
      "metadata": {
        "id": "5y_BmQ55pUGJ"
      },
      "source": [
        "### Tests. DO NOT MODIFY THIS COLUMN\n",
        "import os\n",
        "\n",
        "assert os.path.isdir('/content/data') == True, \"Directory names `data` is not found\"\n",
        "assert os.path.isfile('/content/data/iris.data') == True, \"No file named iris.data imported\"\n",
        "assert os.path.isfile('/content/data/iris.names') == True, \"No file named iris.names imported\"\n",
        "assert iris_df.dtypes[-1] == np.array([0]).dtype, 'Some columns contain strings. Last column should cotain integers.'\n",
        "\n",
        "print(\"All tests passed\")"
      ],
      "execution_count": null,
      "outputs": []
    },
    {
      "cell_type": "markdown",
      "metadata": {
        "id": "aHURkqxEK0Qm"
      },
      "source": [
        "Part 2"
      ]
    },
    {
      "cell_type": "markdown",
      "metadata": {
        "id": "4iMBAfoNK2TE"
      },
      "source": [
        "We will be building a class which will help us easily collect some characteristics of the data."
      ]
    },
    {
      "cell_type": "code",
      "metadata": {
        "id": "QJIoVFGdK10s"
      },
      "source": [
        "class IrisDataInfo:\n",
        "  '''\n",
        "  Helps to perform basic computation on a pandas dataframe.\n",
        "  '''\n",
        "  def __init__(self, df):\n",
        "    self.df = df.copy() # TODO: load in the dataframe into the object\n",
        "    self.mean = np.zeros(df.shape[1])\n",
        "    self.std = np.zeros(df.shape[1])\n",
        "  \n",
        "  def __len__(self):\n",
        "    # TODO: return the length of the dataframe\n",
        "    length = len(self.df)\n",
        "    # Return value is an integer\n",
        "    return length\n",
        "\n",
        "  def mean_df(self):\n",
        "    # TODO: Calculate the mean of the dataframe columns. \n",
        "    self.mean = self.df.mean().values\n",
        "    # If mean as previously computed, return the computed mean instead\n",
        "    # The return value is a numpy array\n",
        "\n",
        "    return self.mean\n",
        "\n",
        "  def std_df(self):\n",
        "    # TODO: Calculate the standard deviation of the dataframe columns. \n",
        "    self.std = self.df.std().values\n",
        "    # If standard was previously computed, return the computed standard deviation instead\n",
        "    # Return value is a numpy array\n",
        "\n",
        "    return self.std\n",
        "\n",
        "  def get_data(self, index):\n",
        "    # TODO: Return the data examples in specific indexes of the dataframe. \n",
        "    self.index = index\n",
        "    indexes =  self.df.iloc[self.index]\n",
        "    # `index` can be an integer, a list, or a numpy array\n",
        "    # Return value is a pandas dataframe\n",
        "    return indexes\n",
        "\n",
        "  def shuffle_df(self, reset_index=True):\n",
        "    # # TODO: Return a randomly shuffled version of the dataframe. Use the default seed while shuffling\n",
        "    self.df = self.df.sample(frac=1)\n",
        "    self.df.reset_index(drop=True,inplace=True)\n",
        "    # If reset_index, reset the indexes to start from 0. \n",
        "    # Previous indexes should not be part of the dataframe\n",
        "    # Return value is a pandas dataframe\n",
        "\n",
        "    return self.df\n",
        "\n",
        "  def sample_df(self, num_sample=10, seed=0):\n",
        "    # TODO: Return a partial sample of your dataframe. Sampling is important when doing bootstrapping\n",
        "    PartialSample = self.df.sample(num_sample)\n",
        "    PartialSample.reset_index(drop=True,inplace=True)\n",
        "    # You should also reset the index\n",
        "    # Return value is a pandas dataframe\n",
        "\n",
        "    return PartialSample\n",
        "\n",
        "  def normalize_df(self):\n",
        "    # TODO: Return a normalized version of the dataframe.\n",
        "    Norm = self.df- self.mean/self.std\n",
        "    # To normalize the dataframe, subtract the mean and divide by the standard deviation\n",
        "    # Return value is a pandas dataframe\n",
        "    \n",
        "    return Norm"
      ],
      "execution_count": null,
      "outputs": []
    },
    {
      "cell_type": "code",
      "metadata": {
        "id": "mFlyEF4fhuKE"
      },
      "source": [
        "## DO NOT MODIFY. CHECK YOUR ANSWER WITH THIS\n",
        "\n",
        "iris_class = IrisDataInfo(iris_df)\n",
        "\n",
        "assert np.allclose(iris_class.mean_df().sum(), 15.8546) == True, \"Mean is incorrect\"\n",
        "assert iris_class.mean.sum() ==  iris_class.mean_df().sum(), \"Mean is not calculated\"\n",
        "\n",
        "assert iris_class.std_df().sum() == 4.60847352151218, \"Standard deviation is incorrect\"\n",
        "assert iris_class.std.sum() == iris_class.std_df().sum(), \"Standard deviation is not well\"\n",
        "\n",
        "assert len(iris_class) == 150, 'Length of dataframe is incorrect'\n",
        "assert np.allclose(iris_class.normalize_df().mean().sum(), 0)  == True, \"Dataframe was not properly normalized\"\n",
        "assert iris_class.sample_df().mean().sum() != iris_class.sample_df().mean().sum(), \"Sampling was not implemented correctly\"\n",
        "\n",
        "print(\"All tests passed\")"
      ],
      "execution_count": null,
      "outputs": []
    },
    {
      "cell_type": "markdown",
      "metadata": {
        "id": "V8YOCPFvWUNq"
      },
      "source": [
        "## OPTIONAL: Ignore if you are so tired"
      ]
    },
    {
      "cell_type": "markdown",
      "metadata": {
        "id": "eiDmU-thYZoq"
      },
      "source": [
        "Part 3: Let's do something useful with our class"
      ]
    },
    {
      "cell_type": "markdown",
      "metadata": {
        "id": "O_HGdobYLOh6"
      },
      "source": [
        "a. We want to track which features (columns) are correlated. Which feature has the highest correlation with the class/label."
      ]
    },
    {
      "cell_type": "code",
      "metadata": {
        "id": "G9QfJfcEKUjP"
      },
      "source": [
        "# Calculate the correlation between different columns.\n",
        "\n",
        "def find_highest_corr_feature(obj: IrisDataInfo):\n",
        "  ##TODO: Given the iris_dataset object, \n",
        "  ## a) calculate the correlation matrix between each features\n",
        "  ## b) Extract the value the feature with highest correlation with label\n",
        "  ## c) also, find the feature name\n",
        "\n",
        "  corr_df = obj.df.corr()\n",
        "  max_corr = \n",
        "  corr_class =\n",
        "  ###################################\n",
        "  return corr_class, max_corr"
      ],
      "execution_count": null,
      "outputs": []
    },
    {
      "cell_type": "code",
      "metadata": {
        "id": "o4_XZDBqYK-q"
      },
      "source": [
        "## Test. DO NOT MODIFY. CHECK YOUR ANSWER WITH THIS\n",
        "\n",
        "assert np.allclose(find_highest_corr_feature(iris_class)[1], 0.649101) == True, \"Find_highest_corr_feature not properly implemented\""
      ],
      "execution_count": null,
      "outputs": []
    },
    {
      "cell_type": "markdown",
      "metadata": {
        "id": "FdStHrmMVOGT"
      },
      "source": [
        "# CONGRATS, YOU HAVE COME TO THE END"
      ]
    }
  ]
}