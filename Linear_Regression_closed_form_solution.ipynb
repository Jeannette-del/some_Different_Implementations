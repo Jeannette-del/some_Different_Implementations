{
  "nbformat": 4,
  "nbformat_minor": 0,
  "metadata": {
    "kernelspec": {
      "display_name": "Python 3",
      "language": "python",
      "name": "python3"
    },
    "language_info": {
      "codemirror_mode": {
        "name": "ipython",
        "version": 3
      },
      "file_extension": ".py",
      "mimetype": "text/x-python",
      "name": "python",
      "nbconvert_exporter": "python",
      "pygments_lexer": "ipython3",
      "version": "3.8.5"
    },
    "colab": {
      "name": "Jeannette_nyirahakizimana LR_Exercise.ipynb",
      "provenance": []
    }
  },
  "cells": [
    {
      "cell_type": "markdown",
      "metadata": {
        "id": "PcweIxw05mOU"
      },
      "source": [
        "Linear Regression Exercise (Closed Form Solution)"
      ]
    },
    {
      "cell_type": "markdown",
      "metadata": {
        "id": "AhSPtDA_5mOa"
      },
      "source": [
        "In statistics, linear regression is a linear approach to modelling the relationship between a scalar response and one or more explanatory variables (also known as dependent and independent variables) [Wikipedia]. The closed form solution to finding the parameter $\\theta$ of a linear regression model is given by $$\\theta = (X^TX)^{-1}X^TY$$ where X are your features and Y is your target."
      ]
    },
    {
      "cell_type": "markdown",
      "metadata": {
        "id": "6JiyueR15mOb"
      },
      "source": [
        "PART A"
      ]
    },
    {
      "cell_type": "markdown",
      "metadata": {
        "id": "RgKS9dY75mOb"
      },
      "source": [
        "You will be implementing this model on a dataset of your choice using <b>numpy</b>.\n",
        "\n",
        "Steps\n",
        "\n",
        "1. Get any interesting dataset online. You can use this dataset repo [mcu dataset](https://archive.ics.uci.edu/ml/datasets.php). We will try to predict one of the features with continuous values. Set the continuous variable as your target column and other columns as your features i.e divide your dataset into $X$ and $y$.\n",
        "Hint: download the dataset and use pandas to load the data into your environment. You should be familiar with this already.\n",
        "2. We will bypass the step of exploring your data and assume that your data $(X, y)$ is linearly separable.\n",
        "3. Create a class called LinearReg: \n",
        "    - the \\_\\_init\\_\\_ constructor will take hyperparameters for the model class. **Ignore this for this exercise as you do not currently have any hyperparameters**\n",
        "    - the class will have two major methods **\"fit\"** and **\"predict\"**.\n",
        "    - the fit method takes as input $X$ and $y$, and calculates $\\theta$ using the formula above. Make sure you save $\\theta$ in as a **class variable** after calculation.\n",
        "    -  the predict function takes in $X$ and returns predictions as $\\hat{y}$. Use the same data $X$ for prediction. Do not worry of overfitting the model at this point.\n",
        "        $$\\hat{Y}=X\\theta$$\n",
        "4. Next create a static method in your class, called **\"rmse\"** that takes in the original target **y** and your predictions **\\hat{y}**, and uses them to calculate the mean square error in prediction (MSE). MSE is computed as;\n",
        "$$MSE = \\frac{\\sum(y - \\hat{y})^2}{N} $$\n",
        "The MSE helps us to know how well we were able to model the data. Lower MSE is always better.\n",
        "5. Run your linear regression model"
      ]
    },
    {
      "cell_type": "markdown",
      "metadata": {
        "id": "dcWAJpJ85mOc"
      },
      "source": [
        "To run your model\n",
        "1. Instantiate the model class, model = LinearReg()\n",
        "2. Run model.fit() with $(X, y)$ as arguments\n",
        "3. Run $\\hat{y}$ = model.predict() with $X$ as argument\n",
        "4. Compare the predictions to the target with model.rmse(y, $\\hat{y})$ . What is the rmse value?"
      ]
    },
    {
      "cell_type": "markdown",
      "metadata": {
        "id": "xRA9aAvr5mOd"
      },
      "source": [
        "PART B"
      ]
    },
    {
      "cell_type": "markdown",
      "metadata": {
        "id": "yaUU78xJ5mOd"
      },
      "source": [
        "Well, we have some bugs in our code and this next section will help to fix that. Linear regression models usually have a zeroth parameter, $\\theta_0$ which helps to model the \"bias\" and gives an extra degree of freedom to the model. To fix this, we do the following.\n",
        "\n",
        "5. Create a function, called **\"add_ones\"** which takes in $X$ and returns an augmented version where 1s have been concatenated with X. This implies that a new column is added to $X$ which contain ones. Call this new augmented data, $X_{new}$. The function should return $X_{new}$. Note that $X_{new}$ has one column more than $X$.\n",
        "6. Edit your fit method **to add ones** to $X$ to make $X_{new}$ before computing $\\theta$ in your code.\n",
        "7. Now, calculate the $MSE$ for your predictions using this $X_{new}$. \n",
        "\n",
        "- Is it better than the previous MSE you got? Give any reason why it is better or not better."
      ]
    },
    {
      "cell_type": "markdown",
      "metadata": {
        "id": "oNWyY0hn5mOd"
      },
      "source": [
        ""
      ]
    },
    {
      "cell_type": "code",
      "metadata": {
        "id": "WQW07JjROFgF"
      },
      "source": [
        "import numpy as np\n",
        "import pandas as pd\n",
        "from google.colab import drive"
      ],
      "execution_count": null,
      "outputs": []
    },
    {
      "cell_type": "code",
      "metadata": {
        "colab": {
          "base_uri": "https://localhost:8080/"
        },
        "id": "T11OKZ3yO3CQ",
        "outputId": "1179298a-1ba0-4924-bd06-eeb0df1fa7df"
      },
      "source": [
        "drive.mount('/content/gdrive') "
      ],
      "execution_count": null,
      "outputs": [
        {
          "output_type": "stream",
          "text": [
            "Mounted at /content/gdrive\n"
          ],
          "name": "stdout"
        }
      ]
    },
    {
      "cell_type": "code",
      "metadata": {
        "colab": {
          "base_uri": "https://localhost:8080/"
        },
        "id": "q1tzASNiP9YR",
        "outputId": "e70db6e8-35c6-4d45-b0c5-8f758fc3f911"
      },
      "source": [
        "!ls '/content/gdrive/MyDrive'"
      ],
      "execution_count": null,
      "outputs": [
        {
          "output_type": "stream",
          "text": [
            " 911.csv\t\t   G2_AMMI2021_Bootcamp_project.zip\n",
            "'Colab Notebooks'\t   Intro_ML_Files.zip\n",
            " company_sales_data.csv    Lab-Exercises_2.pdf\n",
            "'Exercises- Part2.ipynb'   machine.data\n"
          ],
          "name": "stdout"
        }
      ]
    },
    {
      "cell_type": "code",
      "metadata": {
        "id": "livD02ngPYnt"
      },
      "source": [
        "path = '/content/gdrive/MyDrive/machine.data'"
      ],
      "execution_count": null,
      "outputs": []
    },
    {
      "cell_type": "code",
      "metadata": {
        "id": "Wv0en4icPyn8"
      },
      "source": [
        "data = pd.read_csv(path)"
      ],
      "execution_count": null,
      "outputs": []
    },
    {
      "cell_type": "code",
      "metadata": {
        "colab": {
          "base_uri": "https://localhost:8080/",
          "height": 197
        },
        "id": "GWaKfLhQQ2ny",
        "outputId": "5d7b6cb1-ea1e-460e-a2c8-b1d96a8df24f"
      },
      "source": [
        "data.head()"
      ],
      "execution_count": null,
      "outputs": [
        {
          "output_type": "execute_result",
          "data": {
            "text/html": [
              "<div>\n",
              "<style scoped>\n",
              "    .dataframe tbody tr th:only-of-type {\n",
              "        vertical-align: middle;\n",
              "    }\n",
              "\n",
              "    .dataframe tbody tr th {\n",
              "        vertical-align: top;\n",
              "    }\n",
              "\n",
              "    .dataframe thead th {\n",
              "        text-align: right;\n",
              "    }\n",
              "</style>\n",
              "<table border=\"1\" class=\"dataframe\">\n",
              "  <thead>\n",
              "    <tr style=\"text-align: right;\">\n",
              "      <th></th>\n",
              "      <th>adviser</th>\n",
              "      <th>32/60</th>\n",
              "      <th>125</th>\n",
              "      <th>256</th>\n",
              "      <th>6000</th>\n",
              "      <th>256.1</th>\n",
              "      <th>16</th>\n",
              "      <th>128</th>\n",
              "      <th>198</th>\n",
              "      <th>199</th>\n",
              "    </tr>\n",
              "  </thead>\n",
              "  <tbody>\n",
              "    <tr>\n",
              "      <th>0</th>\n",
              "      <td>amdahl</td>\n",
              "      <td>470v/7</td>\n",
              "      <td>29</td>\n",
              "      <td>8000</td>\n",
              "      <td>32000</td>\n",
              "      <td>32</td>\n",
              "      <td>8</td>\n",
              "      <td>32</td>\n",
              "      <td>269</td>\n",
              "      <td>253</td>\n",
              "    </tr>\n",
              "    <tr>\n",
              "      <th>1</th>\n",
              "      <td>amdahl</td>\n",
              "      <td>470v/7a</td>\n",
              "      <td>29</td>\n",
              "      <td>8000</td>\n",
              "      <td>32000</td>\n",
              "      <td>32</td>\n",
              "      <td>8</td>\n",
              "      <td>32</td>\n",
              "      <td>220</td>\n",
              "      <td>253</td>\n",
              "    </tr>\n",
              "    <tr>\n",
              "      <th>2</th>\n",
              "      <td>amdahl</td>\n",
              "      <td>470v/7b</td>\n",
              "      <td>29</td>\n",
              "      <td>8000</td>\n",
              "      <td>32000</td>\n",
              "      <td>32</td>\n",
              "      <td>8</td>\n",
              "      <td>32</td>\n",
              "      <td>172</td>\n",
              "      <td>253</td>\n",
              "    </tr>\n",
              "    <tr>\n",
              "      <th>3</th>\n",
              "      <td>amdahl</td>\n",
              "      <td>470v/7c</td>\n",
              "      <td>29</td>\n",
              "      <td>8000</td>\n",
              "      <td>16000</td>\n",
              "      <td>32</td>\n",
              "      <td>8</td>\n",
              "      <td>16</td>\n",
              "      <td>132</td>\n",
              "      <td>132</td>\n",
              "    </tr>\n",
              "    <tr>\n",
              "      <th>4</th>\n",
              "      <td>amdahl</td>\n",
              "      <td>470v/b</td>\n",
              "      <td>26</td>\n",
              "      <td>8000</td>\n",
              "      <td>32000</td>\n",
              "      <td>64</td>\n",
              "      <td>8</td>\n",
              "      <td>32</td>\n",
              "      <td>318</td>\n",
              "      <td>290</td>\n",
              "    </tr>\n",
              "  </tbody>\n",
              "</table>\n",
              "</div>"
            ],
            "text/plain": [
              "  adviser    32/60  125   256   6000  256.1  16  128  198  199\n",
              "0  amdahl   470v/7   29  8000  32000     32   8   32  269  253\n",
              "1  amdahl  470v/7a   29  8000  32000     32   8   32  220  253\n",
              "2  amdahl  470v/7b   29  8000  32000     32   8   32  172  253\n",
              "3  amdahl  470v/7c   29  8000  16000     32   8   16  132  132\n",
              "4  amdahl   470v/b   26  8000  32000     64   8   32  318  290"
            ]
          },
          "metadata": {
            "tags": []
          },
          "execution_count": 9
        }
      ]
    },
    {
      "cell_type": "code",
      "metadata": {
        "colab": {
          "base_uri": "https://localhost:8080/",
          "height": 197
        },
        "id": "s4GGrbCBS9pX",
        "outputId": "883dd901-9a13-42c7-cd71-fbd5eadc0774"
      },
      "source": [
        "data.tail()"
      ],
      "execution_count": null,
      "outputs": [
        {
          "output_type": "execute_result",
          "data": {
            "text/html": [
              "<div>\n",
              "<style scoped>\n",
              "    .dataframe tbody tr th:only-of-type {\n",
              "        vertical-align: middle;\n",
              "    }\n",
              "\n",
              "    .dataframe tbody tr th {\n",
              "        vertical-align: top;\n",
              "    }\n",
              "\n",
              "    .dataframe thead th {\n",
              "        text-align: right;\n",
              "    }\n",
              "</style>\n",
              "<table border=\"1\" class=\"dataframe\">\n",
              "  <thead>\n",
              "    <tr style=\"text-align: right;\">\n",
              "      <th></th>\n",
              "      <th>adviser</th>\n",
              "      <th>32/60</th>\n",
              "      <th>125</th>\n",
              "      <th>256</th>\n",
              "      <th>6000</th>\n",
              "      <th>256.1</th>\n",
              "      <th>16</th>\n",
              "      <th>128</th>\n",
              "      <th>198</th>\n",
              "      <th>199</th>\n",
              "    </tr>\n",
              "  </thead>\n",
              "  <tbody>\n",
              "    <tr>\n",
              "      <th>203</th>\n",
              "      <td>sperry</td>\n",
              "      <td>80/8</td>\n",
              "      <td>124</td>\n",
              "      <td>1000</td>\n",
              "      <td>8000</td>\n",
              "      <td>0</td>\n",
              "      <td>1</td>\n",
              "      <td>8</td>\n",
              "      <td>42</td>\n",
              "      <td>37</td>\n",
              "    </tr>\n",
              "    <tr>\n",
              "      <th>204</th>\n",
              "      <td>sperry</td>\n",
              "      <td>90/80-model-3</td>\n",
              "      <td>98</td>\n",
              "      <td>1000</td>\n",
              "      <td>8000</td>\n",
              "      <td>32</td>\n",
              "      <td>2</td>\n",
              "      <td>8</td>\n",
              "      <td>46</td>\n",
              "      <td>50</td>\n",
              "    </tr>\n",
              "    <tr>\n",
              "      <th>205</th>\n",
              "      <td>sratus</td>\n",
              "      <td>32</td>\n",
              "      <td>125</td>\n",
              "      <td>2000</td>\n",
              "      <td>8000</td>\n",
              "      <td>0</td>\n",
              "      <td>2</td>\n",
              "      <td>14</td>\n",
              "      <td>52</td>\n",
              "      <td>41</td>\n",
              "    </tr>\n",
              "    <tr>\n",
              "      <th>206</th>\n",
              "      <td>wang</td>\n",
              "      <td>vs-100</td>\n",
              "      <td>480</td>\n",
              "      <td>512</td>\n",
              "      <td>8000</td>\n",
              "      <td>32</td>\n",
              "      <td>0</td>\n",
              "      <td>0</td>\n",
              "      <td>67</td>\n",
              "      <td>47</td>\n",
              "    </tr>\n",
              "    <tr>\n",
              "      <th>207</th>\n",
              "      <td>wang</td>\n",
              "      <td>vs-90</td>\n",
              "      <td>480</td>\n",
              "      <td>1000</td>\n",
              "      <td>4000</td>\n",
              "      <td>0</td>\n",
              "      <td>0</td>\n",
              "      <td>0</td>\n",
              "      <td>45</td>\n",
              "      <td>25</td>\n",
              "    </tr>\n",
              "  </tbody>\n",
              "</table>\n",
              "</div>"
            ],
            "text/plain": [
              "    adviser          32/60  125   256  6000  256.1  16  128  198  199\n",
              "203  sperry           80/8  124  1000  8000      0   1    8   42   37\n",
              "204  sperry  90/80-model-3   98  1000  8000     32   2    8   46   50\n",
              "205  sratus             32  125  2000  8000      0   2   14   52   41\n",
              "206    wang         vs-100  480   512  8000     32   0    0   67   47\n",
              "207    wang          vs-90  480  1000  4000      0   0    0   45   25"
            ]
          },
          "metadata": {
            "tags": []
          },
          "execution_count": 10
        }
      ]
    },
    {
      "cell_type": "code",
      "metadata": {
        "id": "zQCKTtWbSPnM"
      },
      "source": [
        "data.columns = ['Vendor','Model','MYCT','MMIN','MMAX','CACH','CHMIN','CHMAX','PRP','EER']"
      ],
      "execution_count": null,
      "outputs": []
    },
    {
      "cell_type": "code",
      "metadata": {
        "colab": {
          "base_uri": "https://localhost:8080/",
          "height": 197
        },
        "id": "D1T54x16VfLD",
        "outputId": "bf1fc74f-5fb9-47e1-db02-465c0c6b94ea"
      },
      "source": [
        "data.head()"
      ],
      "execution_count": null,
      "outputs": [
        {
          "output_type": "execute_result",
          "data": {
            "text/html": [
              "<div>\n",
              "<style scoped>\n",
              "    .dataframe tbody tr th:only-of-type {\n",
              "        vertical-align: middle;\n",
              "    }\n",
              "\n",
              "    .dataframe tbody tr th {\n",
              "        vertical-align: top;\n",
              "    }\n",
              "\n",
              "    .dataframe thead th {\n",
              "        text-align: right;\n",
              "    }\n",
              "</style>\n",
              "<table border=\"1\" class=\"dataframe\">\n",
              "  <thead>\n",
              "    <tr style=\"text-align: right;\">\n",
              "      <th></th>\n",
              "      <th>Vendor</th>\n",
              "      <th>Model</th>\n",
              "      <th>MYCT</th>\n",
              "      <th>MMIN</th>\n",
              "      <th>MMAX</th>\n",
              "      <th>CACH</th>\n",
              "      <th>CHMIN</th>\n",
              "      <th>CHMAX</th>\n",
              "      <th>PRP</th>\n",
              "      <th>EER</th>\n",
              "    </tr>\n",
              "  </thead>\n",
              "  <tbody>\n",
              "    <tr>\n",
              "      <th>0</th>\n",
              "      <td>amdahl</td>\n",
              "      <td>470v/7</td>\n",
              "      <td>29</td>\n",
              "      <td>8000</td>\n",
              "      <td>32000</td>\n",
              "      <td>32</td>\n",
              "      <td>8</td>\n",
              "      <td>32</td>\n",
              "      <td>269</td>\n",
              "      <td>253</td>\n",
              "    </tr>\n",
              "    <tr>\n",
              "      <th>1</th>\n",
              "      <td>amdahl</td>\n",
              "      <td>470v/7a</td>\n",
              "      <td>29</td>\n",
              "      <td>8000</td>\n",
              "      <td>32000</td>\n",
              "      <td>32</td>\n",
              "      <td>8</td>\n",
              "      <td>32</td>\n",
              "      <td>220</td>\n",
              "      <td>253</td>\n",
              "    </tr>\n",
              "    <tr>\n",
              "      <th>2</th>\n",
              "      <td>amdahl</td>\n",
              "      <td>470v/7b</td>\n",
              "      <td>29</td>\n",
              "      <td>8000</td>\n",
              "      <td>32000</td>\n",
              "      <td>32</td>\n",
              "      <td>8</td>\n",
              "      <td>32</td>\n",
              "      <td>172</td>\n",
              "      <td>253</td>\n",
              "    </tr>\n",
              "    <tr>\n",
              "      <th>3</th>\n",
              "      <td>amdahl</td>\n",
              "      <td>470v/7c</td>\n",
              "      <td>29</td>\n",
              "      <td>8000</td>\n",
              "      <td>16000</td>\n",
              "      <td>32</td>\n",
              "      <td>8</td>\n",
              "      <td>16</td>\n",
              "      <td>132</td>\n",
              "      <td>132</td>\n",
              "    </tr>\n",
              "    <tr>\n",
              "      <th>4</th>\n",
              "      <td>amdahl</td>\n",
              "      <td>470v/b</td>\n",
              "      <td>26</td>\n",
              "      <td>8000</td>\n",
              "      <td>32000</td>\n",
              "      <td>64</td>\n",
              "      <td>8</td>\n",
              "      <td>32</td>\n",
              "      <td>318</td>\n",
              "      <td>290</td>\n",
              "    </tr>\n",
              "  </tbody>\n",
              "</table>\n",
              "</div>"
            ],
            "text/plain": [
              "   Vendor    Model  MYCT  MMIN   MMAX  CACH  CHMIN  CHMAX  PRP  EER\n",
              "0  amdahl   470v/7    29  8000  32000    32      8     32  269  253\n",
              "1  amdahl  470v/7a    29  8000  32000    32      8     32  220  253\n",
              "2  amdahl  470v/7b    29  8000  32000    32      8     32  172  253\n",
              "3  amdahl  470v/7c    29  8000  16000    32      8     16  132  132\n",
              "4  amdahl   470v/b    26  8000  32000    64      8     32  318  290"
            ]
          },
          "metadata": {
            "tags": []
          },
          "execution_count": 12
        }
      ]
    },
    {
      "cell_type": "code",
      "metadata": {
        "colab": {
          "base_uri": "https://localhost:8080/"
        },
        "id": "aUWTha0rWPyK",
        "outputId": "fa744865-b574-46a1-8277-3d4440d26826"
      },
      "source": [
        "data.isnull().sum()"
      ],
      "execution_count": null,
      "outputs": [
        {
          "output_type": "execute_result",
          "data": {
            "text/plain": [
              "Vendor    0\n",
              "Model     0\n",
              "MYCT      0\n",
              "MMIN      0\n",
              "MMAX      0\n",
              "CACH      0\n",
              "CHMIN     0\n",
              "CHMAX     0\n",
              "PRP       0\n",
              "EER       0\n",
              "dtype: int64"
            ]
          },
          "metadata": {
            "tags": []
          },
          "execution_count": 13
        }
      ]
    },
    {
      "cell_type": "code",
      "metadata": {
        "colab": {
          "base_uri": "https://localhost:8080/"
        },
        "id": "BHsp3_WAWqbz",
        "outputId": "ba9ecc7e-c0d8-4ada-9c7f-ff70e38ad126"
      },
      "source": [
        "data.info()"
      ],
      "execution_count": null,
      "outputs": [
        {
          "output_type": "stream",
          "text": [
            "<class 'pandas.core.frame.DataFrame'>\n",
            "RangeIndex: 208 entries, 0 to 207\n",
            "Data columns (total 10 columns):\n",
            " #   Column  Non-Null Count  Dtype \n",
            "---  ------  --------------  ----- \n",
            " 0   Vendor  208 non-null    object\n",
            " 1   Model   208 non-null    object\n",
            " 2   MYCT    208 non-null    int64 \n",
            " 3   MMIN    208 non-null    int64 \n",
            " 4   MMAX    208 non-null    int64 \n",
            " 5   CACH    208 non-null    int64 \n",
            " 6   CHMIN   208 non-null    int64 \n",
            " 7   CHMAX   208 non-null    int64 \n",
            " 8   PRP     208 non-null    int64 \n",
            " 9   EER     208 non-null    int64 \n",
            "dtypes: int64(8), object(2)\n",
            "memory usage: 16.4+ KB\n"
          ],
          "name": "stdout"
        }
      ]
    },
    {
      "cell_type": "code",
      "metadata": {
        "colab": {
          "base_uri": "https://localhost:8080/"
        },
        "id": "VxYd1AnQc8cs",
        "outputId": "5944b4c6-98bc-44a7-a0b4-59d39ce6d2c8"
      },
      "source": [
        "data.shape"
      ],
      "execution_count": null,
      "outputs": [
        {
          "output_type": "execute_result",
          "data": {
            "text/plain": [
              "(208, 10)"
            ]
          },
          "metadata": {
            "tags": []
          },
          "execution_count": 15
        }
      ]
    },
    {
      "cell_type": "code",
      "metadata": {
        "colab": {
          "base_uri": "https://localhost:8080/",
          "height": 197
        },
        "id": "yd772GkvdMDC",
        "outputId": "60e2ce9a-0df2-43de-fb9d-6e43f13584e7"
      },
      "source": [
        "X = data[data.columns[2:-1]]\n",
        "X.head()"
      ],
      "execution_count": null,
      "outputs": [
        {
          "output_type": "execute_result",
          "data": {
            "text/html": [
              "<div>\n",
              "<style scoped>\n",
              "    .dataframe tbody tr th:only-of-type {\n",
              "        vertical-align: middle;\n",
              "    }\n",
              "\n",
              "    .dataframe tbody tr th {\n",
              "        vertical-align: top;\n",
              "    }\n",
              "\n",
              "    .dataframe thead th {\n",
              "        text-align: right;\n",
              "    }\n",
              "</style>\n",
              "<table border=\"1\" class=\"dataframe\">\n",
              "  <thead>\n",
              "    <tr style=\"text-align: right;\">\n",
              "      <th></th>\n",
              "      <th>MYCT</th>\n",
              "      <th>MMIN</th>\n",
              "      <th>MMAX</th>\n",
              "      <th>CACH</th>\n",
              "      <th>CHMIN</th>\n",
              "      <th>CHMAX</th>\n",
              "      <th>PRP</th>\n",
              "    </tr>\n",
              "  </thead>\n",
              "  <tbody>\n",
              "    <tr>\n",
              "      <th>0</th>\n",
              "      <td>29</td>\n",
              "      <td>8000</td>\n",
              "      <td>32000</td>\n",
              "      <td>32</td>\n",
              "      <td>8</td>\n",
              "      <td>32</td>\n",
              "      <td>269</td>\n",
              "    </tr>\n",
              "    <tr>\n",
              "      <th>1</th>\n",
              "      <td>29</td>\n",
              "      <td>8000</td>\n",
              "      <td>32000</td>\n",
              "      <td>32</td>\n",
              "      <td>8</td>\n",
              "      <td>32</td>\n",
              "      <td>220</td>\n",
              "    </tr>\n",
              "    <tr>\n",
              "      <th>2</th>\n",
              "      <td>29</td>\n",
              "      <td>8000</td>\n",
              "      <td>32000</td>\n",
              "      <td>32</td>\n",
              "      <td>8</td>\n",
              "      <td>32</td>\n",
              "      <td>172</td>\n",
              "    </tr>\n",
              "    <tr>\n",
              "      <th>3</th>\n",
              "      <td>29</td>\n",
              "      <td>8000</td>\n",
              "      <td>16000</td>\n",
              "      <td>32</td>\n",
              "      <td>8</td>\n",
              "      <td>16</td>\n",
              "      <td>132</td>\n",
              "    </tr>\n",
              "    <tr>\n",
              "      <th>4</th>\n",
              "      <td>26</td>\n",
              "      <td>8000</td>\n",
              "      <td>32000</td>\n",
              "      <td>64</td>\n",
              "      <td>8</td>\n",
              "      <td>32</td>\n",
              "      <td>318</td>\n",
              "    </tr>\n",
              "  </tbody>\n",
              "</table>\n",
              "</div>"
            ],
            "text/plain": [
              "   MYCT  MMIN   MMAX  CACH  CHMIN  CHMAX  PRP\n",
              "0    29  8000  32000    32      8     32  269\n",
              "1    29  8000  32000    32      8     32  220\n",
              "2    29  8000  32000    32      8     32  172\n",
              "3    29  8000  16000    32      8     16  132\n",
              "4    26  8000  32000    64      8     32  318"
            ]
          },
          "metadata": {
            "tags": []
          },
          "execution_count": 17
        }
      ]
    },
    {
      "cell_type": "code",
      "metadata": {
        "colab": {
          "base_uri": "https://localhost:8080/"
        },
        "id": "8B-uakzCgsXe",
        "outputId": "a61dba2c-c475-4088-a881-6e8829178e6f"
      },
      "source": [
        "y = data['EER']\n",
        "y.head()"
      ],
      "execution_count": null,
      "outputs": [
        {
          "output_type": "execute_result",
          "data": {
            "text/plain": [
              "0    253\n",
              "1    253\n",
              "2    253\n",
              "3    132\n",
              "4    290\n",
              "Name: EER, dtype: int64"
            ]
          },
          "metadata": {
            "tags": []
          },
          "execution_count": 18
        }
      ]
    },
    {
      "cell_type": "code",
      "metadata": {
        "id": "KMDiLImogsZu"
      },
      "source": [
        "class LinearReg:\n",
        "  def __init__(self):\n",
        "    pass\n",
        "  \n",
        "  def fit(self, X, y):\n",
        "    # theta = (X^T X)^(-1) X^T y\n",
        "    self.theta = np.linalg.inv(X.T @ X) @ (X.T @ y)\n",
        "    return self.theta\n",
        "\n",
        "  def predict(self, X):\n",
        "    return X @ self.theta\n",
        "\n",
        "  def rmse(self, y, y_hat):\n",
        "    N = len(X)\n",
        "    MSE = (1/N) * sum((y - y_hat)**2)\n",
        "    return MSE"
      ],
      "execution_count": null,
      "outputs": []
    },
    {
      "cell_type": "code",
      "metadata": {
        "id": "CfaHYZsggsb8"
      },
      "source": [
        "model = LinearReg()"
      ],
      "execution_count": null,
      "outputs": []
    },
    {
      "cell_type": "code",
      "metadata": {
        "colab": {
          "base_uri": "https://localhost:8080/"
        },
        "id": "XBQtV1-Agsd6",
        "outputId": "2773081a-ec1e-410f-c8db-ca0f020e2c58"
      },
      "source": [
        "model.fit(X,y)"
      ],
      "execution_count": null,
      "outputs": [
        {
          "output_type": "execute_result",
          "data": {
            "text/plain": [
              "array([-0.0085281 ,  0.00348704,  0.00207142, -0.04210652, -0.11618218,\n",
              "        0.05061422,  0.70313961])"
            ]
          },
          "metadata": {
            "tags": []
          },
          "execution_count": 21
        }
      ]
    },
    {
      "cell_type": "code",
      "metadata": {
        "colab": {
          "base_uri": "https://localhost:8080/"
        },
        "id": "_vMmbaB2gsgw",
        "outputId": "d6a8b01c-403b-408c-90b2-c69db8e42173"
      },
      "source": [
        "Y_hat = model.predict(X)\n",
        "Y_hat.head()"
      ],
      "execution_count": null,
      "outputs": [
        {
          "output_type": "execute_result",
          "data": {
            "text/plain": [
              "0    282.421963\n",
              "1    247.968122\n",
              "2    214.217420\n",
              "3    152.139213\n",
              "4    315.553980\n",
              "dtype: float64"
            ]
          },
          "metadata": {
            "tags": []
          },
          "execution_count": 22
        }
      ]
    },
    {
      "cell_type": "code",
      "metadata": {
        "colab": {
          "base_uri": "https://localhost:8080/"
        },
        "id": "D0PCv7p-kxn1",
        "outputId": "524f39b7-a991-4904-cd8f-caaa4e021014"
      },
      "source": [
        "model.rmse(y, Y_hat)"
      ],
      "execution_count": null,
      "outputs": [
        {
          "output_type": "execute_result",
          "data": {
            "text/plain": [
              "1214.666391079379"
            ]
          },
          "metadata": {
            "tags": []
          },
          "execution_count": 23
        }
      ]
    },
    {
      "cell_type": "code",
      "metadata": {
        "id": "43LdpSWzk_tz"
      },
      "source": [
        ""
      ],
      "execution_count": null,
      "outputs": []
    },
    {
      "cell_type": "markdown",
      "metadata": {
        "id": "n9uNqMteoeJT"
      },
      "source": [
        "PART  B"
      ]
    },
    {
      "cell_type": "markdown",
      "metadata": {
        "id": "qzn76EV9oV2w"
      },
      "source": [
        "Well, we have some bugs in our code and this next section will help to fix that. Linear regression models usually have a zeroth parameter, $\\theta_0$ which helps to model the \"bias\" and gives an extra degree of freedom to the model. To fix this, we do the following.\n",
        "\n",
        "5. Create a function, called **\"add_ones\"** which takes in $X$ and returns an augmented version where 1s have been concatenated with X. This implies that a new column is added to $X$ which contain ones. Call this new augmented data, $X_{new}$. The function should return $X_{new}$. Note that $X_{new}$ has one column more than $X$.\n",
        "6. Edit your fit method **to add ones** to $X$ to make $X_{new}$ before computing $\\theta$ in your code.\n",
        "7. Now, calculate the $MSE$ for your predictions using this $X_{new}$. \n",
        "\n",
        "- Is it better than the previous MSE you got? Give any reason why it is better or not better."
      ]
    },
    {
      "cell_type": "code",
      "metadata": {
        "id": "pCl6Ql0qo3Nj"
      },
      "source": [
        "class LinearReg:\n",
        "  def __init__(self):\n",
        "    pass\n",
        "\n",
        "  def add_ones(self,X):\n",
        "    ones_vector = np.ones(len(X))\n",
        "    X_new =np.column_stack((X,ones_vector))\n",
        "    return X_new\n",
        "\n",
        "  def fit(self, X, y):\n",
        "    X_new = self.add_ones(X)\n",
        "    self.theta = np.linalg.inv(X_new.T @ X_new) @ (X_new.T @ y)\n",
        "    return self.theta\n",
        "\n",
        "  def predict(self, X):\n",
        "    X_new = self.add_ones(X)\n",
        "    return X_new @ self.theta\n",
        "\n",
        "  def rmse(self, y, y_hat):\n",
        "    N = len(X)\n",
        "    MSE = (1/N) * sum((y - y_hat)**2)\n",
        "    return MSE"
      ],
      "execution_count": null,
      "outputs": []
    },
    {
      "cell_type": "code",
      "metadata": {
        "id": "Vv6Rt1S3sbgc"
      },
      "source": [
        "model = LinearReg()"
      ],
      "execution_count": null,
      "outputs": []
    },
    {
      "cell_type": "code",
      "metadata": {
        "colab": {
          "base_uri": "https://localhost:8080/"
        },
        "id": "7n1B8SM_spoE",
        "outputId": "0e414d38-cd7b-4773-9969-3e4cca4aa249"
      },
      "source": [
        "model.fit(X,y)"
      ],
      "execution_count": null,
      "outputs": [
        {
          "output_type": "execute_result",
          "data": {
            "text/plain": [
              "array([ 3.72784201e-02,  5.44988811e-03,  3.39974506e-03,  9.64847224e-02,\n",
              "        1.89411638e-02,  3.17975359e-01,  5.81908031e-01, -3.39163655e+01])"
            ]
          },
          "metadata": {
            "tags": []
          },
          "execution_count": 26
        }
      ]
    },
    {
      "cell_type": "code",
      "metadata": {
        "colab": {
          "base_uri": "https://localhost:8080/"
        },
        "id": "vsed1PiGxe3z",
        "outputId": "ccb137f9-a451-447c-d74c-42ca03e05c00"
      },
      "source": [
        "Y_hat = model.predict(X)\n",
        "Y_hat"
      ],
      "execution_count": null,
      "outputs": [
        {
          "output_type": "execute_result",
          "data": {
            "text/plain": [
              "array([ 2.89503168e+02,  2.60989674e+02,  2.33058089e+02,  1.50298241e+02,\n",
              "        3.20992337e+02,  3.93144629e+02,  4.64137409e+02,  6.58469731e+02,\n",
              "        1.05793051e+03,  1.94115229e+01,  2.12735064e+01,  6.87878662e+01,\n",
              "        1.33280588e+02, -1.31926190e+01,  6.13433394e+01, -1.36211246e+00,\n",
              "        1.78047411e+01,  6.88528731e+00,  1.18464173e+02,  2.87348328e+01,\n",
              "        3.50446991e+01,  6.09880704e+01,  7.28464135e+01,  1.63273151e+01,\n",
              "        2.91130220e+01,  2.09361290e+01,  6.67745841e+00,  4.46034721e+01,\n",
              "        1.44308746e+01,  1.63003282e+02,  2.17702637e+02,  4.72298918e+01,\n",
              "        6.52690407e+01,  1.40456789e+02,  2.00109636e+02, -8.82712934e+00,\n",
              "        6.25245246e+00,  4.97414581e+01,  4.54461070e+00,  2.39626712e+01,\n",
              "        5.89381519e+01,  6.62390237e+01,  7.08942879e+01,  6.39267617e+01,\n",
              "        5.03277814e+01,  1.23933058e+01,  3.07028453e+01,  3.32721102e+01,\n",
              "        4.29405414e+01,  3.57719553e+01,  1.46758993e+01,  1.13968353e+02,\n",
              "        2.77907481e+01,  6.56138528e+00,  5.35442188e+01,  5.04468531e+01,\n",
              "        3.27732414e+01,  3.39370574e+01,  3.74285056e+01,  3.51008735e+01,\n",
              "        3.85923217e+01,  4.39325037e+00,  1.09049036e+02,  1.36246997e+02,\n",
              "        2.09341442e+02, -1.26373777e+01, -3.44128404e+00,  1.53560260e+01,\n",
              "        1.99879151e+01,  5.15156605e+01,  6.57607733e+01,  1.29222827e+00,\n",
              "        2.03456545e+01,  2.55798271e+01,  5.96689808e+01,  3.05877385e+01,\n",
              "        5.92272420e+01,  1.01971963e+01,  7.71115651e+01,  4.65494866e+00,\n",
              "        3.96076583e+01,  9.56484751e+01,  6.00311719e-01,  1.22010338e+01,\n",
              "        1.46413783e+01,  2.16972585e+01,  2.33184770e+01,  1.78435867e+02,\n",
              "        6.80834017e+01,  1.93320385e+02,  2.21251971e+02,  1.57536726e+01,\n",
              "        1.25241674e+02,  2.21004063e+02,  4.47739649e+02,  4.47588119e+02,\n",
              "        2.88415283e+02,  1.77940020e+02, -9.93050043e+00,  1.47514269e+00,\n",
              "        2.32158761e+01,  1.93901296e+01,  2.59766217e+01,  9.08313574e+00,\n",
              "        2.44517325e+01,  4.89504889e+01,  1.55397260e+01,  1.28801806e+01,\n",
              "        3.01982562e+01,  3.29118273e+01,  4.76282418e+01,  2.49829101e+01,\n",
              "        2.14914619e+01,  4.26855594e+01,  8.59713986e+01,  7.99659261e+01,\n",
              "        9.64358518e+00,  4.92885258e+01,  6.03086978e+01,  1.05804873e+02,\n",
              "        1.27323471e+02,  3.65694201e+01,  4.34606134e+01,  1.85295354e+01,\n",
              "        1.01225044e+01,  3.49677070e+01,  4.13308130e+01,  7.82192414e+01,\n",
              "        8.40383217e+01,  1.52912035e+02,  1.37155880e+01,  2.18503017e+01,\n",
              "        2.53606910e+01,  6.57313599e+01,  7.21831724e+01,  7.85841607e+01,\n",
              "        4.63743367e+01,  4.00804138e+01,  1.99475179e+01,  4.87035882e+01,\n",
              "        4.75397721e+01,  3.90191196e+01,  8.69514683e+01,  9.95742081e+01,\n",
              "        8.54907620e+01,  1.07446791e+02,  1.18184302e+02,  1.39590160e+02,\n",
              "        7.21669661e+01,  1.98424762e+02,  2.95112203e+02,  3.49043257e+02,\n",
              "        4.83091676e+02,  2.06665200e+02,  3.23551139e+02,  4.92599690e+02,\n",
              "       -1.49454424e+01, -9.62591031e+00, -9.60675803e-01,  1.42522853e+01,\n",
              "        2.27974995e+01,  3.95163560e+01,  5.77706005e+01,  7.36972128e+01,\n",
              "        5.97408181e+01,  9.75648401e+01,  1.32480633e+02,  1.92217448e+02,\n",
              "        1.89888505e+02,  9.91289383e-01,  1.13362704e+01,  4.32791246e+01,\n",
              "        8.58503190e+00,  2.31895562e+01,  6.70036788e+01,  7.69653298e+00,\n",
              "        3.05266733e+00,  1.84520292e+01,  4.56248639e+01,  8.08140257e+01,\n",
              "       -1.35432637e+01, -6.59802778e+00,  1.06711059e+01,  2.72440885e+01,\n",
              "        4.79174463e+01,  1.26844610e+02,  7.83620470e+01,  1.03652024e+02,\n",
              "        1.89710522e+02,  2.01242595e+02,  2.75246934e+02,  3.78096416e+02,\n",
              "        6.13247570e+01,  1.64673329e+02,  2.30334500e+02,  3.11145606e+02,\n",
              "        3.74417105e+02,  8.26284114e+02,  9.66120013e+02, -4.22363536e+00,\n",
              "       -1.69734728e+00, -7.32187180e-01,  2.37600894e+00,  3.03568885e+01,\n",
              "        3.48217340e+01,  4.35899286e+01,  5.60409285e+01,  2.92120059e+01])"
            ]
          },
          "metadata": {
            "tags": []
          },
          "execution_count": 30
        }
      ]
    },
    {
      "cell_type": "code",
      "metadata": {
        "colab": {
          "base_uri": "https://localhost:8080/"
        },
        "id": "0lawjuvqzGnE",
        "outputId": "268c692e-4682-49fa-d3f6-a1246bf76cac"
      },
      "source": [
        "model.rmse(y, Y_hat)"
      ],
      "execution_count": null,
      "outputs": [
        {
          "output_type": "execute_result",
          "data": {
            "text/plain": [
              "969.004014844691"
            ]
          },
          "metadata": {
            "tags": []
          },
          "execution_count": 31
        }
      ]
    },
    {
      "cell_type": "code",
      "metadata": {
        "id": "OclUaVNnzL6A"
      },
      "source": [
        "\n"
      ],
      "execution_count": null,
      "outputs": []
    },
    {
      "cell_type": "markdown",
      "metadata": {
        "id": "tgCp_DiXBRm6"
      },
      "source": [
        "Conclusion\n",
        "\n",
        "So, MSE is a risk function that helps us determine the average squared difference between the predicted and the actual value of a feature or variable. For the first case, we did not consider thet intercept term and we got a value and when we consider the intercept term we got a value by comparing those two values, by considering the intercept term we got small value, i.e the error too small.\n",
        "So it 's better to consider intercept term when you are predicting."
      ]
    },
    {
      "cell_type": "code",
      "metadata": {
        "id": "qZ6GK0NUFloB",
        "colab": {
          "base_uri": "https://localhost:8080/",
          "height": 190
        },
        "outputId": "bf3267a4-651f-4260-98ae-a65e0587af6d"
      },
      "source": [
        "\"\"\"\n",
        "class LinearRegressionSGD:\n",
        "  def __init__(self,num_iters,learn_rate):\n",
        "    self.num_iters = num_iters\n",
        "    self.learn_rate =  learn_rate\n",
        "    self.theta = None\n",
        "    \n",
        "\n",
        "  def fit(self,X,Y,eps):\n",
        "    (n, d) = X.shape\n",
        "    self.theta = np.random.rand(X.shape[1])\n",
        "    self.cost = []\n",
        "    Y = Y.reshape(-1,1)\n",
        "    for i in range(0,self.num_iters):\n",
        "      #for j in range(len(X)):\n",
        "      index = np.random.randint(n)\n",
        "      xi = X[index].reshape(-1,d)\n",
        "      yi = Y[index].reshape(-1,1)\n",
        "      theta_prev = self.theta\n",
        "      l = self.mse(yi,xi@theta_prev)\n",
        "      #grad=np.dot(X_train[i].reshape(-1,1).T,(X_train[i].dot(theta ).reshape(-1,1)-Y_train[i].reshape(-1,1)))\n",
        "      grad = xi.T@(xi @ self.theta - yi)\n",
        "      self.theta = self.theta - (2/n)*self.learn_rate *grad\n",
        "      self.cost.append(l) \n",
        "      if np.linalg.norm(theta_prev-self.theta)<=eps:\n",
        "        break\n",
        "      print('last i: ', i)\n",
        "    return self.cost,self.theta\n",
        "    \n",
        "\n",
        "  def predict(self, X_test):\n",
        "    y_predict = X_test @ self.theta\n",
        "    return y_predict\n",
        "\n",
        "  def mse(self,y, y_hat):\n",
        "    N = len(Y_test)\n",
        "    MSE = (1/N) * sum((y - y_hat)**2)\n",
        "    return MSE \"\"\""
      ],
      "execution_count": null,
      "outputs": [
        {
          "output_type": "execute_result",
          "data": {
            "application/vnd.google.colaboratory.intrinsic+json": {
              "type": "string"
            },
            "text/plain": [
              "\"\\nclass LinearRegressionSGD:\\n  def __init__(self,num_iters,learn_rate):\\n    self.num_iters = num_iters\\n    self.learn_rate =  learn_rate\\n    self.theta = None\\n    \\n\\n  def fit(self,X,Y,eps):\\n    (n, d) = X.shape\\n    self.theta = np.random.rand(X.shape[1])\\n    self.cost = []\\n    Y = Y.reshape(-1,1)\\n    for i in range(0,self.num_iters):\\n      #for j in range(len(X)):\\n      index = np.random.randint(n)\\n      xi = X[index].reshape(-1,d)\\n      yi = Y[index].reshape(-1,1)\\n      theta_prev = self.theta\\n      l = self.mse(yi,xi@theta_prev)\\n      #grad=np.dot(X_train[i].reshape(-1,1).T,(X_train[i].dot(theta ).reshape(-1,1)-Y_train[i].reshape(-1,1)))\\n      grad = xi.T@(xi @ self.theta - yi)\\n      self.theta = self.theta - (2/n)*self.learn_rate *grad\\n      self.cost.append(l) \\n      if np.linalg.norm(theta_prev-self.theta)<=eps:\\n        break\\n      print('last i: ', i)\\n    return self.cost,self.theta\\n    \\n\\n  def predict(self, X_test):\\n    y_predict = X_test @ self.theta\\n    return y_predict\\n\\n  def mse(self,y, y_hat):\\n    N = len(Y_test)\\n    MSE = (1/N) * sum((y - y_hat)**2)\\n    return MSE \""
            ]
          },
          "metadata": {
            "tags": []
          },
          "execution_count": 1
        }
      ]
    },
    {
      "cell_type": "code",
      "metadata": {
        "id": "nJjz_6nqq_N6"
      },
      "source": [
        ""
      ],
      "execution_count": null,
      "outputs": []
    }
  ]
}