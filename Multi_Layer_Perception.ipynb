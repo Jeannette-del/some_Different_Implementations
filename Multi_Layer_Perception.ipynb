{
  "nbformat": 4,
  "nbformat_minor": 0,
  "metadata": {
    "colab": {
      "name": "Jeannette_Nyirahakizimana_implentation_of_ multi_layer_perceptron2.ipynb",
      "provenance": []
    },
    "kernelspec": {
      "display_name": "Python 3",
      "name": "python3"
    }
  },
  "cells": [
    {
      "cell_type": "code",
      "metadata": {
        "colab": {
          "base_uri": "https://localhost:8080/"
        },
        "id": "VS9fUtGX-zCB",
        "outputId": "63bd07c5-42e7-4923-ed38-7ced7cdb2ada"
      },
      "source": [
        "cd /content/drive/MyDrive/"
      ],
      "execution_count": null,
      "outputs": [
        {
          "output_type": "stream",
          "text": [
            "/content/drive/MyDrive\n"
          ],
          "name": "stdout"
        }
      ]
    },
    {
      "cell_type": "code",
      "metadata": {
        "id": "GabmJrMjQreu"
      },
      "source": [
        "import torch as tc\n",
        "import torchvision \n",
        "from torchvision import datasets\n",
        "import warnings\n",
        "warnings.filterwarnings('ignore')\n"
      ],
      "execution_count": null,
      "outputs": []
    },
    {
      "cell_type": "code",
      "metadata": {
        "id": "OzilrOXfMGwf"
      },
      "source": [
        "from dlc_practical_prologue import *"
      ],
      "execution_count": null,
      "outputs": []
    },
    {
      "cell_type": "code",
      "metadata": {
        "colab": {
          "base_uri": "https://localhost:8080/"
        },
        "id": "AYCt9wciOSOt",
        "outputId": "35cf5062-721f-4340-98b1-631023cf3835"
      },
      "source": [
        "!wget www.di.ens.fr/~lelarge/MNIST.tar.gz\n",
        "!tar -zxvf MNIST.tar.gz"
      ],
      "execution_count": null,
      "outputs": [
        {
          "output_type": "stream",
          "text": [
            "--2021-03-23 23:14:26--  http://www.di.ens.fr/~lelarge/MNIST.tar.gz\n",
            "Resolving www.di.ens.fr (www.di.ens.fr)... 129.199.99.14\n",
            "Connecting to www.di.ens.fr (www.di.ens.fr)|129.199.99.14|:80... connected.\n",
            "HTTP request sent, awaiting response... 302 Found\n",
            "Location: https://www.di.ens.fr/~lelarge/MNIST.tar.gz [following]\n",
            "--2021-03-23 23:14:26--  https://www.di.ens.fr/~lelarge/MNIST.tar.gz\n",
            "Connecting to www.di.ens.fr (www.di.ens.fr)|129.199.99.14|:443... connected.\n",
            "HTTP request sent, awaiting response... 200 OK\n",
            "Length: unspecified [application/x-gzip]\n",
            "Saving to: ‘MNIST.tar.gz.9’\n",
            "\n",
            "MNIST.tar.gz.9          [    <=>             ]  33.20M  2.70MB/s    in 13s     \n",
            "\n",
            "2021-03-23 23:14:40 (2.58 MB/s) - ‘MNIST.tar.gz.9’ saved [34813078]\n",
            "\n",
            "MNIST/\n",
            "MNIST/raw/\n",
            "MNIST/raw/train-labels-idx1-ubyte\n",
            "MNIST/raw/t10k-labels-idx1-ubyte.gz\n",
            "MNIST/raw/t10k-labels-idx1-ubyte\n",
            "MNIST/raw/t10k-images-idx3-ubyte.gz\n",
            "MNIST/raw/train-images-idx3-ubyte\n",
            "MNIST/raw/train-labels-idx1-ubyte.gz\n",
            "MNIST/raw/t10k-images-idx3-ubyte\n",
            "MNIST/raw/train-images-idx3-ubyte.gz\n",
            "MNIST/processed/\n",
            "MNIST/processed/training.pt\n",
            "MNIST/processed/test.pt\n"
          ],
          "name": "stdout"
        }
      ]
    },
    {
      "cell_type": "code",
      "metadata": {
        "id": "6dNMbtMLQ_WL"
      },
      "source": [
        "transforms = torchvision.transforms.ToTensor()\n",
        "train_data = datasets.MNIST(root = './', train=True, download=True)\n",
        "val_data = datasets.MNIST(root = './', train=False, download=True)"
      ],
      "execution_count": null,
      "outputs": []
    },
    {
      "cell_type": "code",
      "metadata": {
        "id": "Sv9MKCJXRErq"
      },
      "source": [
        "train_input = train_data.data.view(-1, 1, 28, 28).float()\n",
        "train_target = train_data.targets\n",
        "test_input = val_data.data.view(-1, 1, 28, 28).float()\n",
        "test_target = val_data.targets"
      ],
      "execution_count": null,
      "outputs": []
    },
    {
      "cell_type": "code",
      "metadata": {
        "id": "PlX1fuD3RN6Q"
      },
      "source": [
        "train_input = train_input.clone().reshape(train_input.size(0), -1)\n",
        "test_input = test_input.clone().reshape(test_input.size(0), -1)"
      ],
      "execution_count": null,
      "outputs": []
    },
    {
      "cell_type": "code",
      "metadata": {
        "colab": {
          "base_uri": "https://localhost:8080/"
        },
        "id": "OD1G78F4RUCv",
        "outputId": "082ad66d-b8e1-4026-83a2-332e8a2718ec"
      },
      "source": [
        "print('** Reduce the data-set to the tiny setup')\n",
        "train_input = train_input.narrow(0, 0, 500)\n",
        "train_target = train_target.narrow(0, 0, 500)\n",
        "test_input = test_input.narrow(0, 0, 100)\n",
        "test_target = test_target.narrow(0, 0, 100)"
      ],
      "execution_count": null,
      "outputs": [
        {
          "output_type": "stream",
          "text": [
            "** Reduce the data-set to the tiny setup\n"
          ],
          "name": "stdout"
        }
      ]
    },
    {
      "cell_type": "code",
      "metadata": {
        "id": "WGYQfFv7RaF5"
      },
      "source": [
        "train_target = convert_to_one_hot_labels(train_input, train_target)\n",
        "test_target = convert_to_one_hot_labels(test_input, test_target)"
      ],
      "execution_count": null,
      "outputs": []
    },
    {
      "cell_type": "code",
      "metadata": {
        "colab": {
          "base_uri": "https://localhost:8080/"
        },
        "id": "zEb5OXhqRfdq",
        "outputId": "8ed5e7eb-33b0-4299-a8dc-860e462daf4f"
      },
      "source": [
        "mu, std = train_input.mean(), train_input.std()\n",
        "train_input.sub_(mu).div_(std)\n",
        "test_input.sub_(mu).div_(std)"
      ],
      "execution_count": null,
      "outputs": [
        {
          "output_type": "execute_result",
          "data": {
            "text/plain": [
              "tensor([[-0.4167, -0.4167, -0.4167,  ..., -0.4167, -0.4167, -0.4167],\n",
              "        [-0.4167, -0.4167, -0.4167,  ..., -0.4167, -0.4167, -0.4167],\n",
              "        [-0.4167, -0.4167, -0.4167,  ..., -0.4167, -0.4167, -0.4167],\n",
              "        ...,\n",
              "        [-0.4167, -0.4167, -0.4167,  ..., -0.4167, -0.4167, -0.4167],\n",
              "        [-0.4167, -0.4167, -0.4167,  ..., -0.4167, -0.4167, -0.4167],\n",
              "        [-0.4167, -0.4167, -0.4167,  ..., -0.4167, -0.4167, -0.4167]])"
            ]
          },
          "metadata": {
            "tags": []
          },
          "execution_count": 11
        }
      ]
    },
    {
      "cell_type": "code",
      "metadata": {
        "id": "nqX4YSr6Rmlz"
      },
      "source": [
        "train_target = 0.9 * train_target\n",
        "test_target = 0.9 * test_target"
      ],
      "execution_count": null,
      "outputs": []
    },
    {
      "cell_type": "code",
      "metadata": {
        "colab": {
          "base_uri": "https://localhost:8080/"
        },
        "id": "KkfxwtfJqzDX",
        "outputId": "dfb6bceb-b784-4f2e-ebc2-735ac7b16368"
      },
      "source": [
        "train_target.shape"
      ],
      "execution_count": null,
      "outputs": [
        {
          "output_type": "execute_result",
          "data": {
            "text/plain": [
              "torch.Size([500, 10])"
            ]
          },
          "metadata": {
            "tags": []
          },
          "execution_count": 13
        }
      ]
    },
    {
      "cell_type": "code",
      "metadata": {
        "id": "MHirKnwQqzE9"
      },
      "source": [
        ""
      ],
      "execution_count": null,
      "outputs": []
    },
    {
      "cell_type": "markdown",
      "metadata": {
        "id": "UGmcTNl_TqBy"
      },
      "source": [
        "#Question 1 Activation function"
      ]
    },
    {
      "cell_type": "code",
      "metadata": {
        "id": "VhHclPa5RD8A"
      },
      "source": [
        ""
      ],
      "execution_count": null,
      "outputs": []
    },
    {
      "cell_type": "code",
      "metadata": {
        "id": "qHn98JlZM3c6"
      },
      "source": [
        "def sigma(x):\n",
        "  return tc.tanh(x)"
      ],
      "execution_count": null,
      "outputs": []
    },
    {
      "cell_type": "code",
      "metadata": {
        "id": "Gt312nAGN6UE"
      },
      "source": [
        "def dsigma(x):\n",
        "  return 1-(tc.tanh(x))**2"
      ],
      "execution_count": null,
      "outputs": []
    },
    {
      "cell_type": "markdown",
      "metadata": {
        "id": "p07DsFu7UFxf"
      },
      "source": [
        "#Question 2 Loss functions"
      ]
    },
    {
      "cell_type": "code",
      "metadata": {
        "id": "tDQBxRCPOOlX"
      },
      "source": [
        "def loss(v,t):\n",
        "  return tc.sum(tc.pow((t-v),2))\n",
        "  \n"
      ],
      "execution_count": null,
      "outputs": []
    },
    {
      "cell_type": "code",
      "metadata": {
        "id": "VzhIAEAASFgi"
      },
      "source": [
        "def dloss(v,t):\n",
        "  return 2*(t-v)\n"
      ],
      "execution_count": null,
      "outputs": []
    },
    {
      "cell_type": "markdown",
      "metadata": {
        "id": "ZmzgI5BYUNcf"
      },
      "source": [
        "#Question 3  Forward and backward passes"
      ]
    },
    {
      "cell_type": "code",
      "metadata": {
        "id": "t6UBEpwtTXfL"
      },
      "source": [
        "def forward_pass(w1, b1, w2, b2, x):\n",
        "  x0 = x\n",
        "  s1 = tc.mm(w1,x0)+b1\n",
        "  x1 = sigma(s1)\n",
        "  s2 = tc.mm(w2,x1)+b2\n",
        "  x2 = sigma(s2)\n",
        "  return x0,s1,x1,s2,x2\n"
      ],
      "execution_count": null,
      "outputs": []
    },
    {
      "cell_type": "code",
      "metadata": {
        "id": "281pxfYXXeEP"
      },
      "source": [
        "def backward_pass(w1,b1,w2, b2,t,x,s1, x1,s2,x2,dl_dw1,dl_db1, dl_dw2, dl_db2):\n",
        "  #dl_dw2 += tc.mm(tc.mul(dloss(x2,t),dsigma(s2)), tc.t(x1))\n",
        "  #dl_dw1 += tc.mm(tc.mul(tc.mm(tc.t(w2),tc.mul( dloss(x2,t), dsigma(s2))), dsigma(s1)), tc.t(x))\n",
        "  #dl_db2 += tc.mul(dloss(x2,t),dsigma(s2))\n",
        "  #dl_db1 += tc.mul(tc.mm(tc.t(w2), tc.mul(dloss(x2,t),dsigma(s2))), dsigma(s1))\n",
        "  ########################\n",
        "  dl_dx2 = dloss(x2, t)\n",
        "  dl_ds2 = tc.mul(dl_dx2, dsigma(s2))\n",
        "  dl_dw2 += tc.mm(dl_ds2, tc.t(x1))\n",
        "  dl_db2 += dl_ds2\n",
        "  dl_dx1 = tc.mm(torch.t(w2), dl_ds2)\n",
        "  dl_ds1 = tc.mul(dl_dx1, dsigma(s1))\n",
        "  dl_dw1 += tc.mm(dl_ds1, tc.t(x))\n",
        "  dl_db1 += dl_ds1\n",
        "\n",
        "  #return None\n",
        "  \n",
        "\n",
        "  \n"
      ],
      "execution_count": null,
      "outputs": []
    },
    {
      "cell_type": "markdown",
      "metadata": {
        "id": "eB8bntsEvvP1"
      },
      "source": [
        "#Question 4  Training the network"
      ]
    },
    {
      "cell_type": "code",
      "metadata": {
        "id": "dRE3NJNeIn-R"
      },
      "source": [
        "# Compute the error\n",
        "def error(test_set, test_target_set, w1, b1, w2, b2):\n",
        "  n = test_set.shape[0]\n",
        "  num_errors = 0\n",
        "  for i in range(n):\n",
        "    x = x = train_input [i].view(-1,1)\n",
        "    t = torch.argmax(test_target_set[i])\n",
        "    _, _, _, _, predicted = forward_pass(w1, b1, w2, b2, x)\n",
        "    predicted_class = torch.argmax(predicted, 0)\n",
        "    if t != predicted_class:\n",
        "      num_errors += 1\n",
        "  return num_errors/n"
      ],
      "execution_count": null,
      "outputs": []
    },
    {
      "cell_type": "code",
      "metadata": {
        "id": "H9PwHsydWzR2"
      },
      "source": [
        "def accuracy(out, yb):\n",
        "    preds = torch.argmax(out, dim=1)\n",
        "    return (preds == yb).float().mean()"
      ],
      "execution_count": null,
      "outputs": []
    },
    {
      "cell_type": "code",
      "metadata": {
        "id": "_vykr6MgZ1o4"
      },
      "source": [
        "def train(train_input, train_target, test_input, test_target):\n",
        "\n",
        "  lr = 0.1/train_target.shape[0]\n",
        "  eps=1e-6\n",
        "  m,n= train_input.shape\n",
        "\n",
        "  # set weights\n",
        "  w2 = tc.empty(10, 50).normal_(0, eps)\n",
        "  b2 = tc.empty(10, 1).normal_(0, eps)\n",
        "  w1 = tc.empty(50, 784).normal_(0, eps)\n",
        "  b1 = tc.empty(50, 1).normal_(0, eps)\n",
        "# set gradients\n",
        "  dl_dw2 = tc.zeros(10, 50)\n",
        "  dl_db2 = tc.zeros(10, 1)\n",
        "  dl_dw1 = tc.zeros(50, 784)\n",
        "  dl_db1 = tc.zeros(50, 1)\n",
        "  for u in range(1000):\n",
        "\n",
        "    for k in range(m):\n",
        "\n",
        "      x = train_input [k].view(-1,1)\n",
        "      t = train_target[k].view(-1,1)\n",
        "      x0, s1, x1, s2, x2 = forward_pass(w1, b1, w2, b2, x)\n",
        "      backward_pass(w1, b1, w2, b2, t, x, s1, x1, s2, x2, dl_dw1, dl_db1, dl_dw2, dl_db2)\n",
        "    \n",
        "    w2 = w2 - lr * dl_dw2\n",
        "    b2 = b2 - lr * dl_db2\n",
        "    w1 = w1 - lr * dl_dw1\n",
        "    b1 = b1 - lr * dl_db1\n",
        "  \n",
        "  \n",
        "  Training_error = error(train_input,train_target, w1, b1, w2, b2)\n",
        "  print(\"Training_error is {}\".format(Training_error*100,\".1f\") + \"%\")\n",
        "\n",
        "  Test_error = error(test_input,test_target, w1, b1, w2, b2)\n",
        "  print(\"Test_error is {}\".format(Test_error*100,\".1f\") + \"%\")\n",
        "  return w1, w2, b1, b2, x2\n",
        "\n",
        "  "
      ],
      "execution_count": null,
      "outputs": []
    },
    {
      "cell_type": "code",
      "metadata": {
        "colab": {
          "base_uri": "https://localhost:8080/"
        },
        "id": "tvUrAI6J044x",
        "outputId": "0e323520-e006-43c0-e566-fccca74a694c"
      },
      "source": [
        "w1, w2, b1, b2, pred= train(train_input, train_target, test_input, test_target)"
      ],
      "execution_count": null,
      "outputs": [
        {
          "output_type": "stream",
          "text": [
            "Training_error is 90.0%\n",
            "Test_error is 92.0%\n"
          ],
          "name": "stdout"
        }
      ]
    },
    {
      "cell_type": "code",
      "metadata": {
        "colab": {
          "base_uri": "https://localhost:8080/"
        },
        "id": "LEGogw4OXM4e",
        "outputId": "a1b74754-fb84-4c97-bca8-06c2792d1aae"
      },
      "source": [
        "print(accuracy(pred, test_target)) "
      ],
      "execution_count": null,
      "outputs": [
        {
          "output_type": "stream",
          "text": [
            "tensor(0.9000)\n"
          ],
          "name": "stdout"
        }
      ]
    },
    {
      "cell_type": "code",
      "metadata": {
        "id": "L9yISuP1LRMa",
        "colab": {
          "base_uri": "https://localhost:8080/"
        },
        "outputId": "b94708bb-5501-40f3-faed-6adc4ae4bcf3"
      },
      "source": [
        "w1"
      ],
      "execution_count": null,
      "outputs": [
        {
          "output_type": "execute_result",
          "data": {
            "text/plain": [
              "tensor([[ 1.8705,  1.8705,  1.8705,  ...,  1.8705,  1.8705,  1.8705],\n",
              "        [-2.1346, -2.1346, -2.1346,  ..., -2.1346, -2.1346, -2.1346],\n",
              "        [ 0.2530,  0.2530,  0.2530,  ...,  0.2530,  0.2530,  0.2530],\n",
              "        ...,\n",
              "        [-1.1047, -1.1047, -1.1046,  ..., -1.1046, -1.1047, -1.1046],\n",
              "        [ 2.4444,  2.4444,  2.4444,  ...,  2.4444,  2.4444,  2.4444],\n",
              "        [-0.3839, -0.3839, -0.3839,  ..., -0.3839, -0.3839, -0.3839]])"
            ]
          },
          "metadata": {
            "tags": []
          },
          "execution_count": 25
        }
      ]
    },
    {
      "cell_type": "code",
      "metadata": {
        "colab": {
          "base_uri": "https://localhost:8080/"
        },
        "id": "T2PU7dTMNp8N",
        "outputId": "33e8666b-2abd-4dde-8baa-4e4953eb0f40"
      },
      "source": [
        "w2"
      ],
      "execution_count": null,
      "outputs": [
        {
          "output_type": "execute_result",
          "data": {
            "text/plain": [
              "tensor([[ 23.8390, -28.3390,   2.7956, -25.4600, -22.0105,  25.4197,  -2.7683,\n",
              "          -7.2523,  19.4511,  -4.5157,  29.3693, -17.7986, -45.6945, -28.8914,\n",
              "         -17.4993, -14.7104,  14.8721,  19.6195, -25.3767,  34.0264,  -6.9812,\n",
              "          -9.6228,  -6.4847, -14.7161, -10.2590,  -9.7599, -17.1122,  23.6342,\n",
              "           5.1321,  12.2356,  38.8129,  16.3011,  26.9367, -35.1590,   3.0091,\n",
              "         -29.2596,  22.6371,  45.8154,  -4.1285,  -7.0543,   3.8797, -33.9190,\n",
              "         -11.6893,  -5.5913,  39.2748,  -1.5500,   9.0265, -12.9631,  34.4391,\n",
              "          -4.2719],\n",
              "        [ 17.4690, -20.6860,   2.0802, -18.6258, -16.1381,  18.5720,  -2.0753,\n",
              "          -5.3783,  14.2886,  -3.3151,  21.4251, -13.0801, -33.4929, -21.1323,\n",
              "         -12.8653, -10.8272,  10.9749,  14.4311, -18.5542,  24.8768,  -5.1921,\n",
              "          -7.1215,  -4.8275, -10.8550,  -7.6269,  -7.2498, -12.5832,  17.2828,\n",
              "           3.8093,   9.0190,  28.3703,  12.0201,  19.6911, -25.6759,   2.2597,\n",
              "         -21.3741,  16.5939,  33.6108,  -3.0636,  -5.2271,   2.8712, -24.7763,\n",
              "          -8.6574,  -4.1696,  28.7111,  -1.1694,   6.7312,  -9.5891,  25.1395,\n",
              "          -3.1873],\n",
              "        [ 22.9414, -27.2524,   2.6961, -24.4951, -21.1891,  24.4339,  -2.6659,\n",
              "          -6.9788,  18.7199,  -4.3263,  28.2374, -17.1211, -43.9971, -27.8127,\n",
              "         -16.8360, -14.1445,  14.3312,  18.8930, -24.4059,  32.7470,  -6.7242,\n",
              "          -9.2543,  -6.2345, -14.1663,  -9.8881,  -9.3922, -16.4508,  22.7220,\n",
              "           4.9169,  11.7550,  37.3442,  15.6968,  25.9142, -33.8266,   2.9085,\n",
              "         -28.1468,  21.7797,  44.1285,  -3.9596,  -6.7894,   3.7169, -32.6393,\n",
              "         -11.2590,  -5.3829,  37.7984,  -1.5100,   8.7034, -12.4836,  33.1280,\n",
              "          -4.1179],\n",
              "        [ 23.8996, -28.3732,   2.8006, -25.5113, -22.0698,  25.4507,  -2.7718,\n",
              "          -7.2480,  19.4883,  -4.4807,  29.4050, -17.8231, -45.7614, -28.9639,\n",
              "         -17.5193, -14.7218,  14.9044,  19.6696, -25.4160,  34.0988,  -6.9901,\n",
              "          -9.6167,  -6.4929, -14.7491, -10.2854,  -9.7836, -17.1368,  23.6645,\n",
              "           5.1186,  12.2214,  38.8823,  16.3402,  27.0045, -35.2155,   3.0082,\n",
              "         -29.3084,  22.6920,  45.8998,  -4.1155,  -7.0621,   3.8614, -33.9886,\n",
              "         -11.7075,  -5.5994,  39.3431,  -1.5648,   9.0638, -12.9785,  34.4898,\n",
              "          -4.2768],\n",
              "        [ 22.8591, -27.1242,   2.7023, -24.3819, -21.0960,  24.3175,  -2.6487,\n",
              "          -6.9414,  18.6449,  -4.2991,  28.1048, -17.0288, -43.8052, -27.6780,\n",
              "         -16.7613, -14.0883,  14.2629,  18.8151, -24.2956,  32.6100,  -6.6895,\n",
              "          -9.2015,  -6.2183, -14.0982,  -9.8478,  -9.3570, -16.3741,  22.6131,\n",
              "           4.8876,  11.6831,  37.1751,  15.6244,  25.7815, -33.6917,   2.8886,\n",
              "         -28.0172,  21.6786,  43.9564,  -3.9434,  -6.7594,   3.6887, -32.4912,\n",
              "         -11.2080,  -5.3627,  37.6468,  -1.5201,   8.6611, -12.4185,  32.9819,\n",
              "          -4.1088],\n",
              "        [ 29.9851, -35.5924,   3.4832, -32.0010, -27.6664,  31.9233,  -3.4443,\n",
              "          -9.0248,  24.4270,  -5.5766,  36.8815, -22.3177, -56.9162, -36.3244,\n",
              "         -21.9468, -18.4125,  18.6440,  24.6548, -31.8856,  42.7197,  -8.6969,\n",
              "         -11.9898,  -8.0789, -18.4378, -12.8301, -12.1926, -21.4547,  29.6789,\n",
              "           6.3623,  15.2660,  48.5910,  20.4548,  33.8565, -44.1088,   3.7440,\n",
              "         -36.7641,  28.4517,  57.0925,  -5.1169,  -8.7797,   4.7997, -42.5740,\n",
              "         -14.6199,  -6.9615,  49.1664,  -1.9478,  11.2820, -16.2218,  43.2039,\n",
              "          -5.3195],\n",
              "        [ 26.4697, -31.4256,   3.0971, -28.2490, -24.4265,  28.1776,  -3.0575,\n",
              "          -7.9925,  21.5712,  -4.9556,  32.5676, -19.7080, -50.5343, -32.0651,\n",
              "         -19.3932, -16.2764,  16.4929,  21.7681, -28.1468,  37.7542,  -7.7073,\n",
              "         -10.6175,  -7.1519, -16.2916, -11.3461, -10.7824, -18.9450,  26.1971,\n",
              "           5.6305,  13.5168,  42.9977,  18.0690,  29.8769, -39.0041,   3.3356,\n",
              "         -32.4711,  25.1090,  50.6955,  -4.5371,  -7.7786,   4.2537, -37.6220,\n",
              "         -12.9377,  -6.1607,  43.5220,  -1.7334,   9.9717, -14.3534,  38.1896,\n",
              "          -4.7220],\n",
              "        [ 22.8656, -27.1223,   2.6989, -24.3819, -21.0918,  24.3295,  -2.6511,\n",
              "          -6.9390,  18.6503,  -4.2902,  28.1081, -17.0332, -43.7932, -27.6847,\n",
              "         -16.7604, -14.0912,  14.2503,  18.8181, -24.2922,  32.6157,  -6.6852,\n",
              "          -9.2059,  -6.2197, -14.1049,  -9.8518,  -9.3656, -16.3816,  22.6180,\n",
              "           4.9006,  11.6831,  37.1719,  15.6315,  25.7885, -33.6897,   2.8874,\n",
              "         -28.0156,  21.6881,  43.9487,  -3.9460,  -6.7595,   3.6936, -32.4854,\n",
              "         -11.2080,  -5.3565,  37.6428,  -1.5200,   8.6679, -12.4144,  32.9829,\n",
              "          -4.1105],\n",
              "        [ 30.1403, -35.7719,   3.5004, -32.1714, -27.8166,  32.0881,  -3.4584,\n",
              "          -9.0704,  24.5611,  -5.5993,  37.0630, -22.4335, -57.1548, -36.5119,\n",
              "         -22.0613, -18.5066,  18.7423,  24.7914, -32.0506,  42.9284,  -8.7424,\n",
              "         -12.0560,  -8.1198, -18.5375, -12.9032, -12.2587, -21.5678,  29.8359,\n",
              "           6.3966,  15.3440,  48.8121,  20.5611,  34.0344, -44.3102,   3.7641,\n",
              "         -36.9475,  28.6031,  57.3298,  -5.1431,  -8.8247,   4.8244, -42.7781,\n",
              "         -14.6996,  -7.0006,  49.3839,  -1.9590,  11.3506, -16.3091,  43.4042,\n",
              "          -5.3495],\n",
              "        [ 21.6326, -25.6501,   2.5658, -23.0653, -19.9606,  23.0063,  -2.5166,\n",
              "          -6.5807,  17.6493,  -4.0696,  26.5791, -16.1218, -41.4620, -26.1840,\n",
              "         -15.8674, -13.3468,  13.5018,  17.8103, -22.9789,  30.8488,  -6.3438,\n",
              "          -8.7212,  -5.9023, -13.3584,  -9.3393,  -8.8788, -15.5064,  21.3925,\n",
              "           4.6470,  11.0640,  35.1663,  14.7994,  24.3925, -31.8677,   2.7400,\n",
              "         -26.4992,  20.5187,  41.6101,  -3.7448,  -6.4100,   3.5030, -30.7279,\n",
              "         -10.6250,  -5.0887,  35.6145,  -1.4459,   8.2226, -11.7622,  31.1929,\n",
              "          -3.9035]])"
            ]
          },
          "metadata": {
            "tags": []
          },
          "execution_count": 26
        }
      ]
    },
    {
      "cell_type": "code",
      "metadata": {
        "colab": {
          "base_uri": "https://localhost:8080/"
        },
        "id": "hc6J2ZVrNsrI",
        "outputId": "75e96506-92ff-43f5-9a6d-703fe78f1d6e"
      },
      "source": [
        "b1.shape"
      ],
      "execution_count": null,
      "outputs": [
        {
          "output_type": "execute_result",
          "data": {
            "text/plain": [
              "torch.Size([50, 1])"
            ]
          },
          "metadata": {
            "tags": []
          },
          "execution_count": 27
        }
      ]
    },
    {
      "cell_type": "code",
      "metadata": {
        "colab": {
          "base_uri": "https://localhost:8080/"
        },
        "id": "NF9C3QN2NwCs",
        "outputId": "85f8c469-e832-4ab4-b7b4-23956c9ecf17"
      },
      "source": [
        "b2.shape"
      ],
      "execution_count": null,
      "outputs": [
        {
          "output_type": "execute_result",
          "data": {
            "text/plain": [
              "torch.Size([10, 1])"
            ]
          },
          "metadata": {
            "tags": []
          },
          "execution_count": 28
        }
      ]
    },
    {
      "cell_type": "code",
      "metadata": {
        "colab": {
          "base_uri": "https://localhost:8080/"
        },
        "id": "m_X16AM-Ny4a",
        "outputId": "827e9cd9-e0c7-4f9f-b353-ab85d98ecd3a"
      },
      "source": [
        "pred.shape"
      ],
      "execution_count": null,
      "outputs": [
        {
          "output_type": "execute_result",
          "data": {
            "text/plain": [
              "torch.Size([10, 1])"
            ]
          },
          "metadata": {
            "tags": []
          },
          "execution_count": 29
        }
      ]
    },
    {
      "cell_type": "code",
      "metadata": {
        "id": "S3QpMymkN9AL"
      },
      "source": [
        ""
      ],
      "execution_count": null,
      "outputs": []
    }
  ]
}