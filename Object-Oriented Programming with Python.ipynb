{
  "nbformat": 4,
  "nbformat_minor": 0,
  "metadata": {
    "colab": {
      "name": "Jeannette_Nyirahakizimana_ Bootcamp1_day5_tutorials_student_version.ipynb",
      "provenance": [],
      "collapsed_sections": []
    },
    "kernelspec": {
      "display_name": "Python 3",
      "name": "python3"
    }
  },
  "cells": [
    {
      "cell_type": "markdown",
      "metadata": {
        "id": "ov70EqtEJ0db"
      },
      "source": [
        "# Object-Oriented Programming with Python #"
      ]
    },
    {
      "cell_type": "markdown",
      "metadata": {
        "id": "yiP5rZEo43Mz"
      },
      "source": [
        "Exercise 1.\n",
        "\n",
        "If you use the same name for an instance attribute and a class attribute, which one will be returned if the attribute name is called? Complete the code below to illiustrate this."
      ]
    },
    {
      "cell_type": "code",
      "metadata": {
        "id": "SQw1QoB346EX"
      },
      "source": [
        ""
      ],
      "execution_count": null,
      "outputs": []
    },
    {
      "cell_type": "code",
      "metadata": {
        "id": "0kEp2SfYMD-R",
        "colab": {
          "base_uri": "https://localhost:8080/"
        },
        "outputId": "214c6bfc-074e-411c-9a50-9aea35845f5d"
      },
      "source": [
        "class Names:\n",
        "  #code here ~ 1 line\n",
        "  val =0\n",
        "  def __init__(self,val):\n",
        "    #code here ~ 1 line\n",
        "    self.val =val\n",
        "\n",
        "n = Names(10)\n",
        "print(n.val) # print instance variable\n",
        "print(Names.val) # print class variable"
      ],
      "execution_count": null,
      "outputs": [
        {
          "output_type": "stream",
          "text": [
            "10\n",
            "0\n"
          ],
          "name": "stdout"
        }
      ]
    },
    {
      "cell_type": "markdown",
      "metadata": {
        "id": "tAh9cy9G2Ly4"
      },
      "source": [
        "\n",
        "\n",
        "---\n",
        "\n",
        "\n",
        "Exercise 2. \n",
        "\n",
        "Implement a simple getter and setter methods for the `AMMIStudent` class below.\n",
        "\n",
        "\n",
        "---\n",
        "\n"
      ]
    },
    {
      "cell_type": "code",
      "metadata": {
        "id": "rMDVkU0QaHXY"
      },
      "source": [
        "class AMMIStudent:\n",
        "  continent = 'Africa' # Class Variables, All AMMI students are from Africa\n",
        "  def __init__(self, firstname, lastname, country, stdID):\n",
        "    # define all private variables here\n",
        "    ### CODE HERE ###\n",
        "    self.__firstname = firstname\n",
        "    self.__lastname = lastname\n",
        "    self.__country = country\n",
        "    self.__num_class_attendance = 0\n",
        "   ### END CODE  ###\n",
        "  \n",
        "  def get_full_name(self):\n",
        "    return self.__firstname + ' ' + self.__lastname\n",
        "\n",
        "  def get_class_attendance(self):\n",
        "    return self.__num_class_attendance\n",
        "\n",
        "  #Define getter and setter methods for firstname and lastname\n",
        "   ### CODE HERE ###\n",
        "  def get_firstname(self):\n",
        "    return self.__firstname\n",
        "  \n",
        "  def get_lastname(self):\n",
        "    \n",
        "    return self.__lastname\n",
        "\n",
        "  def set_lastname(self,lastname):\n",
        "    self.__lastname = lastname\n",
        "\n",
        "  def set_firstname(self,firstname):\n",
        "    self.__firstname = firstname\n",
        "\n",
        "   ### END CODE  ###\n"
      ],
      "execution_count": null,
      "outputs": []
    },
    {
      "cell_type": "code",
      "metadata": {
        "id": "r0sS5XsVhnFV"
      },
      "source": [
        "std2 =  AMMIStudent('Jeannette','NYIRAHAKIZIMANA','RWANDA','AMMI037') # Instantiate a second object called std2, Pass your own arguments"
      ],
      "execution_count": null,
      "outputs": []
    },
    {
      "cell_type": "code",
      "metadata": {
        "colab": {
          "base_uri": "https://localhost:8080/",
          "height": 35
        },
        "id": "Py3qCOIxkAS9",
        "outputId": "6d3fc928-5a80-46eb-b1f1-6d1847e19d3a"
      },
      "source": [
        "std2.get_firstname()"
      ],
      "execution_count": null,
      "outputs": [
        {
          "output_type": "execute_result",
          "data": {
            "application/vnd.google.colaboratory.intrinsic+json": {
              "type": "string"
            },
            "text/plain": [
              "'Jeannette'"
            ]
          },
          "metadata": {
            "tags": []
          },
          "execution_count": 14
        }
      ]
    },
    {
      "cell_type": "code",
      "metadata": {
        "id": "dgW6lYmjW00C"
      },
      "source": [
        "std2.set_firstname('Gaelle')"
      ],
      "execution_count": null,
      "outputs": []
    },
    {
      "cell_type": "code",
      "metadata": {
        "colab": {
          "base_uri": "https://localhost:8080/",
          "height": 35
        },
        "id": "_K2zoydSXCKT",
        "outputId": "4a1376bd-34f9-45c0-ce32-4c8e1d2ff703"
      },
      "source": [
        "std2.get_firstname()"
      ],
      "execution_count": null,
      "outputs": [
        {
          "output_type": "execute_result",
          "data": {
            "application/vnd.google.colaboratory.intrinsic+json": {
              "type": "string"
            },
            "text/plain": [
              "'Gaelle'"
            ]
          },
          "metadata": {
            "tags": []
          },
          "execution_count": 16
        }
      ]
    },
    {
      "cell_type": "markdown",
      "metadata": {
        "id": "0LGnBdybQK3-"
      },
      "source": [
        "\n",
        "\n",
        "---\n",
        "\n",
        "\n",
        "Exercise 3. \n",
        "\n",
        "Implement an Scaling class as a base class for an Affine class.\n",
        "\n",
        "The scaling function is given as; $$s = \\alpha X$$ while the full Affine transformation is given as $$y = \\alpha X + b$$\n",
        "\n",
        "Complete the code below for an Affine class that inherits from the Scaling class and has an additional method that adds an offset to the scaled values.\n",
        "   \n",
        "\n",
        "---\n",
        "\n"
      ]
    },
    {
      "cell_type": "code",
      "metadata": {
        "id": "dlm5FOZ-Dmh-"
      },
      "source": [
        "class Scaling:\n",
        "  \"\"\" Scaling class\n",
        "  \"\"\"\n",
        "  def __init__(self, w, x):\n",
        "    \"\"\"\n",
        "    Constructor for Scaling Class\n",
        "    Initializes params w and x\n",
        "    \"\"\"\n",
        "    self.__w = w\n",
        "    self.__x = x\n",
        "    \n",
        "  def multiply_vals(self):\n",
        "    \n",
        "\n",
        "    \"\"\"\n",
        "    Parameters\n",
        "    ----------\n",
        "    None\n",
        "    Returns \n",
        "    ----------\n",
        "    s: (list) scaled values of x#\n",
        "    \"\"\"\n",
        "    \n",
        "    ###\n",
        "    # CODE HERE\n",
        "    # self.__w = []\n",
        "    return sum([self.__w[i]*self.__x[i] for i in range(len(self.__w))])\n",
        "    # return sum([w*x for w, x in zip(self.__w * self.__x)])\n",
        "    ###\n",
        "\n",
        "class Affine(Scaling):\n",
        "\n",
        "# class Affine(Scaling):\n",
        "  \"\"\"\n",
        "  Affine Class \n",
        "  Performs affine transformation on inputs given coefficients and offset\n",
        "  \"\"\"\n",
        "  def __init__(self, w, x, b):\n",
        "    \"\"\"\n",
        "    Initialize w, x and b\n",
        "    \"\"\"\n",
        "    super().__init__(w, x)\n",
        "    self.__b = b\n",
        "    \n",
        "  def __add_offset(self):\n",
        "    \"\"\" linear method - adds offset to scaled values of x \n",
        "        y = αX + b\n",
        "    \n",
        "    Parameters\n",
        "    ----------\n",
        "    None\n",
        "\n",
        "    Returns \n",
        "    ----------\n",
        "    y: (list) shifted values of αX \n",
        "\n",
        "    \"\"\"\n",
        "    ###\n",
        "\n",
        "    # CODE HERE\n",
        "    y = self.multiply_vals()+ self.__b\n",
        "\n",
        "    return y\n",
        "\n",
        "    ###\n",
        "\n",
        "  def transform(self):\n",
        "    \"\"\" transform method \n",
        "    Calls __add_offset method\n",
        "    \n",
        "    Parameters\n",
        "    ----------\n",
        "    None\n",
        "\n",
        "    Returns \n",
        "    ----------\n",
        "    y: (list) shifted values of αX \n",
        "\n",
        "    \"\"\"\n",
        "    return Affine.__add_offset(self)"
      ],
      "execution_count": null,
      "outputs": []
    },
    {
      "cell_type": "code",
      "metadata": {
        "colab": {
          "base_uri": "https://localhost:8080/"
        },
        "id": "LrNsNvkgl9RN",
        "outputId": "0a6e8740-a139-4145-edc1-ef2b26d281a5"
      },
      "source": [
        "k = Scaling([2,3,3], [1,2,4])\n",
        "k.multiply_vals()"
      ],
      "execution_count": null,
      "outputs": [
        {
          "output_type": "execute_result",
          "data": {
            "text/plain": [
              "20"
            ]
          },
          "metadata": {
            "tags": []
          },
          "execution_count": 73
        }
      ]
    },
    {
      "cell_type": "code",
      "metadata": {
        "id": "41c4MPrcryj5"
      },
      "source": [
        ""
      ],
      "execution_count": null,
      "outputs": []
    },
    {
      "cell_type": "code",
      "metadata": {
        "id": "OMW4qsY0EoGz",
        "colab": {
          "base_uri": "https://localhost:8080/"
        },
        "outputId": "8f1067de-59aa-40ad-dc23-9b8a92391edd"
      },
      "source": [
        "d = Affine([2,3,3], [1,2,4], 4)    # Instantiate the DerivedClass\n",
        "d.transform()"
      ],
      "execution_count": null,
      "outputs": [
        {
          "output_type": "execute_result",
          "data": {
            "text/plain": [
              "24"
            ]
          },
          "metadata": {
            "tags": []
          },
          "execution_count": 89
        }
      ]
    },
    {
      "cell_type": "markdown",
      "metadata": {
        "id": "qZ1sSnJzzfe4"
      },
      "source": [
        "\n",
        "\n",
        "---\n",
        "\n",
        "\n",
        "Exercise 4.\n",
        "\n",
        "Use Docstring to provide a documentation for the AMMIStudent class.\n",
        "\n",
        "\n",
        "---\n",
        "\n",
        "\n",
        "\n",
        "\n",
        "\n",
        "\n"
      ]
    },
    {
      "cell_type": "code",
      "metadata": {
        "id": "5ft4ShmPytRE"
      },
      "source": [
        "class AMMIStudent:\n",
        "\n",
        "  \"\"\" \n",
        "  This the AMMIStudent class  contains different attributes which are firstname\n",
        "  , lastname,country and student ID \"\"\"\n",
        "\n",
        "  continent = 'Africa' \n",
        "  def __init__(self, firstname, lastname, country, stdID):\n",
        "\n",
        "\n",
        "\n",
        "    \"\"\"Initialization of variables\"\"\"\n",
        "  ####\n",
        "    self.firstname = firstname\n",
        "    self.lastname = lastname\n",
        "    self.country = country\n",
        "    self.stdID = stdID\n",
        "    self.num_class_attendance = 0\n",
        "    eps = 1\n",
        " \n",
        "  def get_full_name(self):\n",
        "    \"\"\"\n",
        "    To access instance of lastname and firstname\n",
        "    \"\"\"\n",
        "    return self.firstname + ' ' + self.lastname\n",
        "\n",
        "  def get_class_attendance(self):\n",
        "\n",
        "    \"\"\"To access instance of class attendance\"\"\"\n",
        "  \n",
        "    return self.num_class_attendance"
      ],
      "execution_count": null,
      "outputs": []
    },
    {
      "cell_type": "code",
      "metadata": {
        "colab": {
          "base_uri": "https://localhost:8080/"
        },
        "id": "2TBIDARnz-r8",
        "outputId": "bf498c55-8453-4bdb-ef5e-099f2114e95c"
      },
      "source": [
        "help(AMMIStudent)"
      ],
      "execution_count": null,
      "outputs": [
        {
          "output_type": "stream",
          "text": [
            "Help on class AMMIStudent in module __main__:\n",
            "\n",
            "class AMMIStudent(builtins.object)\n",
            " |  This the AMMIStudent class  contains different attributes which are firstname\n",
            " |  , lastname,country and student ID\n",
            " |  \n",
            " |  Methods defined here:\n",
            " |  \n",
            " |  __init__(self, firstname, lastname, country, stdID)\n",
            " |      Initialization of variables\n",
            " |  \n",
            " |  get_class_attendance(self)\n",
            " |      To access instance of class attendance\n",
            " |  \n",
            " |  get_full_name(self)\n",
            " |      To access instance of lastname and firstname\n",
            " |  \n",
            " |  ----------------------------------------------------------------------\n",
            " |  Data descriptors defined here:\n",
            " |  \n",
            " |  __dict__\n",
            " |      dictionary for instance variables (if defined)\n",
            " |  \n",
            " |  __weakref__\n",
            " |      list of weak references to the object (if defined)\n",
            " |  \n",
            " |  ----------------------------------------------------------------------\n",
            " |  Data and other attributes defined here:\n",
            " |  \n",
            " |  continent = 'Africa'\n",
            "\n"
          ],
          "name": "stdout"
        }
      ]
    },
    {
      "cell_type": "markdown",
      "metadata": {
        "id": "lFU1bdpmTU9p"
      },
      "source": [
        "\n",
        "\n",
        "---\n",
        "\n",
        "\n",
        "Exercise 5\n",
        "\n",
        "Implement the following methods for a Gaussian Distribution\n",
        "- $$p(x) = \\frac{1}{\\sqrt{2 \\pi \\sigma}} exp(\\frac{1}{2\\sigma}(x-\\mu)^2)$$\n",
        "\n",
        "- $$\\mu = \\frac{1}{n}\\sum^{n}_{i}x_i$$\n",
        "\n",
        "- if *sample* = True, $$\\sigma = \\frac{1}{n - 1}\\sum^{n}_{i}(x-\\mu)^2$$ \n",
        "\n",
        "else: $$\\sigma = \\frac{1}{n}\\sum^{n}_{i}(x-\\mu)^2$$ \n",
        "\n",
        "- Sum of two Gaussians $$\\mathcal{N(\\mu_1 ,\\sigma_1)} + \\mathcal{N(\\mu_2 ,\\sigma_2)} = \\mathcal{N(\\mu_1 + \\mu_2 , \\sqrt{\\sigma_1^2 + \\sigma_2^2})}$$\n",
        "\n",
        "\n",
        "---\n",
        "\n"
      ]
    },
    {
      "cell_type": "code",
      "metadata": {
        "id": "o18bZdDSo52V"
      },
      "source": [
        "import math\n",
        "class GaussianDistribution():\n",
        "    \"\"\" Gaussian distribution class\n",
        "    \n",
        "    Attributes:\n",
        "        mean (float) representing the mean value of the distribution\n",
        "        stdev (float) representing the standard deviation of the distribution\n",
        "        data_list (list of floats) a list of floats extracted from the data file\n",
        "            \n",
        "    \"\"\"\n",
        "    def __init__(self, mu = 0, stddev = 1):\n",
        "        \n",
        "        self.mean = mu\n",
        "        self.stdev = stddev\n",
        "\n",
        "    def compute_mean(self):\n",
        "    \n",
        "        \"\"\"Compute the mean of the data set.\n",
        "        \n",
        "        Parameters\n",
        "        ----------------\n",
        "        None\n",
        "        \n",
        "        Returns\n",
        "        ---------------- \n",
        "        mean: float, mean of the data set\n",
        "    \n",
        "        \"\"\"\n",
        "\n",
        "        y  = 1.0 * sum(self.data)/ len(self.data)\n",
        "        self.mean = y\n",
        "        return self.mean\n",
        "\n",
        "\n",
        "\n",
        "    def compute_stddev(self, sample=True):\n",
        "\n",
        "        \"\"\"Compute the standard deviation of the data set.\n",
        "        \n",
        "        Parameters\n",
        "        --------------\n",
        "        sample (bool): whether the data represents a sample or population\n",
        "        \n",
        "        Returns\n",
        "        --------------\n",
        "        stddev: float, standard deviation of the data set\n",
        "    \n",
        "        \"\"\"\n",
        "        if sample:\n",
        "          n = len(self.data) - 1\n",
        "        else:\n",
        "          n = len(self.data)\n",
        "      \n",
        "        mean = self.compute_mean()\n",
        "      \n",
        "        sigma = 0\n",
        "        for j in self.data:\n",
        "          sigma += (j - mean) ** 2\n",
        "        sigma = math.sqrt(sigma / n)\n",
        "        self.stdev = sigma\n",
        "        return self.stdev\n",
        "        \n",
        "\n",
        "    def get_data(self, data, sample=True):\n",
        "\n",
        "        \"\"\"Gets data representing either samples or population\n",
        "        \n",
        "        Parameters\n",
        "        --------------\n",
        "        data:   list, size(n)\n",
        "        sample: bool, True if data represent a sample and False if a population\n",
        "        \n",
        "        Returns:\n",
        "        None\n",
        "        \n",
        "        \"\"\"\n",
        "        self.data = data\n",
        "        self.mean = self.compute_mean()\n",
        "        self.stdev = self.compute_stddev(sample)\n",
        "\n",
        "        def pdf(self, x):\n",
        "          \"\"\"Computes the probability density function for the gaussian distribution.\n",
        "\n",
        "          Parameters\n",
        "          ---------------\n",
        "          x:  float, point for calculating the pdf\n",
        "\n",
        "\n",
        "          Returns\n",
        "          ---------------\n",
        "          output: float, probability density function of point x\n",
        "          \"\"\"\n",
        "         ###\n",
        "          pd=(1. / (self.stdev * math.sqrt(2*math.pi))) * math.exp(-0.5*((x - self.mean) / self.stdev) ** 2)       \n",
        "\n",
        "        \n",
        "          return pd\n",
        "\n",
        "        def logpdf(self):\n",
        "          \"\"\"Computes the log probability density function for the gaussian distribution.\n",
        "\n",
        "          Parameters\n",
        "          ---------------\n",
        "          None\n",
        "\n",
        "\n",
        "          Returns\n",
        "          ---------------\n",
        "          output: float, probability density function of point x\n",
        "          \"\"\"\n",
        "         ###\n",
        "          logpd=math.log((1. / (self.stdev * math.sqrt(2*math.pi))) * math.exp(-0.5*((x - self.mean) / self.stdev) ** 2))\n",
        "\n",
        "         \n",
        "\n",
        "          return logpd\n",
        "\n",
        "        def __add__(self, other):\n",
        "          \"\"\"Computes the sum of two gaussian distributions.\n",
        "\n",
        "          Parameters\n",
        "          ---------------\n",
        "          other:  Another Gaussian distribution object\n",
        "\n",
        "\n",
        "          Returns\n",
        "          ---------------\n",
        "          Result: A gaussian distribution object with mean summed for two gaussians \n",
        "          and squared root of sum of squares of variances  \n",
        "          \"\"\"\n",
        "       ###\n",
        "          result = GaussianDistribution()\n",
        "          result.mean = self.mean + other.mean\n",
        "          result.stdev = math.sqrt(self.stdev ** 2 + other.stdev ** 2)\n",
        "\n",
        "       ###\n",
        "          return result\n",
        "\n",
        "        def __repr__(self):\n",
        "          \"\"\"Representation magic method of the GaussianDistribution class.\n",
        "\n",
        "          Parameters\n",
        "          ---------------\n",
        "          None\n",
        "\n",
        "\n",
        "          Returns\n",
        "          ---------------\n",
        "          Rrepresentation of class name with mean and variance\n",
        "          \"\"\"\n",
        "          return \"Gaussian distribution - mean: {}, standard deviation: {}\".format(self.mean, self.stdev)\n",
        "        "
      ],
      "execution_count": null,
      "outputs": []
    },
    {
      "cell_type": "code",
      "metadata": {
        "id": "H5cbVgjNo6rh"
      },
      "source": [
        "gauss1 = GaussianDistribution(0,1)\n",
        "gauss2 = GaussianDistribution(0,1)"
      ],
      "execution_count": null,
      "outputs": []
    },
    {
      "cell_type": "code",
      "metadata": {
        "id": "hhlrT1qwo_75"
      },
      "source": [
        "gauss1.get_data([2,1,4,5,2,3,1,2,3,5])\n",
        "gauss2.get_data([4,2,8,2,3,5,2,3,7,0])"
      ],
      "execution_count": null,
      "outputs": []
    },
    {
      "cell_type": "code",
      "metadata": {
        "id": "gtLwtFnKpCg_",
        "colab": {
          "base_uri": "https://localhost:8080/"
        },
        "outputId": "740b0044-37e4-48d5-d7a2-a6c2f0d49f0d"
      },
      "source": [
        "gauss1"
      ],
      "execution_count": null,
      "outputs": [
        {
          "output_type": "execute_result",
          "data": {
            "text/plain": [
              "<__main__.GaussianDistribution at 0x7f386e6dd5f8>"
            ]
          },
          "metadata": {
            "tags": []
          },
          "execution_count": 162
        }
      ]
    },
    {
      "cell_type": "code",
      "metadata": {
        "colab": {
          "base_uri": "https://localhost:8080/"
        },
        "id": "PnRF_VQVvUVA",
        "outputId": "ef9af318-5fe9-4261-d584-ec846ae3f0d1"
      },
      "source": [
        "gauss2"
      ],
      "execution_count": null,
      "outputs": [
        {
          "output_type": "execute_result",
          "data": {
            "text/plain": [
              "<__main__.GaussianDistribution at 0x7f386e6dd5c0>"
            ]
          },
          "metadata": {
            "tags": []
          },
          "execution_count": 163
        }
      ]
    },
    {
      "cell_type": "code",
      "metadata": {
        "id": "Koj38rpuvqWP"
      },
      "source": [
        " gauss3 = gauss1  and gauss2"
      ],
      "execution_count": null,
      "outputs": []
    },
    {
      "cell_type": "code",
      "metadata": {
        "colab": {
          "base_uri": "https://localhost:8080/"
        },
        "id": "0Z1jOccOv4Xw",
        "outputId": "28865f48-3cb4-4d4a-d2ca-d8bc73caf184"
      },
      "source": [
        "gauss3"
      ],
      "execution_count": null,
      "outputs": [
        {
          "output_type": "execute_result",
          "data": {
            "text/plain": [
              "<__main__.GaussianDistribution at 0x7f386e6dd5c0>"
            ]
          },
          "metadata": {
            "tags": []
          },
          "execution_count": 165
        }
      ]
    },
    {
      "cell_type": "code",
      "metadata": {
        "id": "AOQ6WOM_xrN1"
      },
      "source": [
        "gauss3 = gauss1 + gauss2"
      ],
      "execution_count": null,
      "outputs": []
    },
    {
      "cell_type": "markdown",
      "metadata": {
        "id": "gknF3xyCk5KF"
      },
      "source": [
        "###References###"
      ]
    },
    {
      "cell_type": "markdown",
      "metadata": {
        "id": "Dy6E6vxLlpJN"
      },
      "source": [
        "- Object-oriented programming\n",
        "  - https://info.keylimeinteractive.com/the-four-pillars-of-object-oriented-programming\n",
        "- Class, instance and static methods \n",
        "  - https://realpython.com/instance-class-and-static-methods-demystified/\n",
        "  - https://www.python-course.eu/python3_class_and_instance_attributes.php\n",
        "- Multiple inheritance/ Mixins\n",
        "  - https://easyaspython.com/mixins-for-fun-and-profit-cb9962760556\n",
        "- Special Methods\n",
        "  - https://diveintopython3.net/special-method-names.html\n",
        "- Python decorators\n",
        "  - https://realpython.com/primer-on-python-decorators/\n",
        "\n"
      ]
    }
  ]
}